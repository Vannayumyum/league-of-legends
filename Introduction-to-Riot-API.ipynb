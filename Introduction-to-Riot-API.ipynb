{
 "cells": [
  {
   "cell_type": "code",
   "execution_count": 1,
   "id": "60ad4ad1",
   "metadata": {},
   "outputs": [],
   "source": [
    "from riotwatcher import LolWatcher, ApiError\n",
    "import pandas as pd\n",
    "import time\n",
    "import datetime"
   ]
  },
  {
   "cell_type": "markdown",
   "id": "a6dac5e4",
   "metadata": {},
   "source": [
    "# I. First steps (Discovering API with various functions)\n"
   ]
  },
  {
   "cell_type": "markdown",
   "id": "11e187a8",
   "metadata": {},
   "source": [
    "## Using Riot API key"
   ]
  },
  {
   "cell_type": "code",
   "execution_count": 2,
   "id": "ae627858",
   "metadata": {},
   "outputs": [],
   "source": [
    "#Complete with your own API key \n",
    "api_key = 'RGAPI-xxxx'\n",
    "watcher = LolWatcher(api_key)\n",
    "my_region = 'euw1'\n",
    "#[\"na1\", \"euw1\", \"eun1\", \"kr\", \"br1\", \"jp1\", \"ru\", \"oc1\", \"tr1\", \"la1\", \"la2\"]\n",
    "my_summoner='MamaYumYum'"
   ]
  },
  {
   "cell_type": "markdown",
   "id": "21b34623",
   "metadata": {},
   "source": [
    "#### Profile information"
   ]
  },
  {
   "cell_type": "code",
   "execution_count": 3,
   "id": "2bdfb420",
   "metadata": {},
   "outputs": [],
   "source": [
    "#Load a profile  \n",
    "my_profile = watcher.summoner.by_name(my_region,my_summoner)"
   ]
  },
  {
   "cell_type": "code",
   "execution_count": 4,
   "id": "0011e03c",
   "metadata": {},
   "outputs": [
    {
     "name": "stdout",
     "output_type": "stream",
     "text": [
      "{'id': 'tfQ1hZABPAxKvX6rkgpqWE7UszeqS8sq7lieyKopKUMu3Z0', 'accountId': 'RiVjJkjVb_T-e_hgpmXYL6oLTO6G8uGjre8oOQM7-sdaSQ', 'puuid': 'La6KBkKxEZGOS-jBVIqKsS8PzTvxz7BP_k_AIeK-EkbUrCgHgGy3UW1XGX4h6qN4S7mnIqwIzCKfYw', 'name': 'MamaYumYum', 'profileIconId': 5622, 'revisionDate': 1680818073000, 'summonerLevel': 525}\n"
     ]
    }
   ],
   "source": [
    "print(my_profile)"
   ]
  },
  {
   "cell_type": "code",
   "execution_count": 5,
   "id": "45b09581",
   "metadata": {},
   "outputs": [
    {
     "name": "stdout",
     "output_type": "stream",
     "text": [
      "[{'leagueId': '50a6cc74-60c4-4896-aa2a-54c73299f7c7', 'queueType': 'RANKED_SOLO_5x5', 'tier': 'PLATINUM', 'rank': 'IV', 'summonerId': 'tfQ1hZABPAxKvX6rkgpqWE7UszeqS8sq7lieyKopKUMu3Z0', 'summonerName': 'MamaYumYum', 'leaguePoints': 47, 'wins': 102, 'losses': 99, 'veteran': False, 'inactive': False, 'freshBlood': False, 'hotStreak': False}]\n"
     ]
    }
   ],
   "source": [
    "#Load ranked stats\n",
    "my_ranked_stats = watcher.league.by_summoner(my_region,my_profile['id'])\n",
    "print(my_ranked_stats)"
   ]
  },
  {
   "cell_type": "markdown",
   "id": "d751c3a1",
   "metadata": {},
   "source": [
    "## Match information using JSON"
   ]
  },
  {
   "cell_type": "code",
   "execution_count": 6,
   "id": "2c82ece1",
   "metadata": {},
   "outputs": [],
   "source": [
    "#This function returns a list of the last played game with the game's ids\n",
    "def get_matches_list(my_region,my_summoner,nbMatches):\n",
    "    profile=watcher.summoner.by_name(my_region,my_summoner)\n",
    "    matches_list=watcher.match.matchlist_by_puuid(my_region,profile['puuid'],count=nbMatches)\n",
    "   \n",
    "    return matches_list\n",
    "    \n",
    "#The function matchlist_by_puuid has a limit of 100 games"
   ]
  },
  {
   "cell_type": "code",
   "execution_count": 7,
   "id": "f9b2716f",
   "metadata": {},
   "outputs": [],
   "source": [
    "nbMatches=20\n",
    "matches_list=get_matches_list(my_region,my_summoner,nbMatches)"
   ]
  },
  {
   "cell_type": "code",
   "execution_count": 8,
   "id": "5c107593",
   "metadata": {},
   "outputs": [
    {
     "data": {
      "text/plain": [
       "['EUW1_6349558955',\n",
       " 'EUW1_6349503397',\n",
       " 'EUW1_6347767990',\n",
       " 'EUW1_6346829954',\n",
       " 'EUW1_6346406135',\n",
       " 'EUW1_6346377480',\n",
       " 'EUW1_6345492861',\n",
       " 'EUW1_6344920335',\n",
       " 'EUW1_6344828393',\n",
       " 'EUW1_6344780310',\n",
       " 'EUW1_6340799573',\n",
       " 'EUW1_6340749762',\n",
       " 'EUW1_6335975261',\n",
       " 'EUW1_6335029842',\n",
       " 'EUW1_6334965764',\n",
       " 'EUW1_6333590234',\n",
       " 'EUW1_6333492894',\n",
       " 'EUW1_6328709921',\n",
       " 'EUW1_6328662160',\n",
       " 'EUW1_6328212297']"
      ]
     },
     "execution_count": 8,
     "metadata": {},
     "output_type": "execute_result"
    }
   ],
   "source": [
    "matches_list"
   ]
  },
  {
   "cell_type": "code",
   "execution_count": 85,
   "id": "b32bb2c0",
   "metadata": {},
   "outputs": [
    {
     "data": {
      "text/plain": [
       "'EUW1_6349558955'"
      ]
     },
     "execution_count": 85,
     "metadata": {},
     "output_type": "execute_result"
    }
   ],
   "source": [
    "matches_list[0]"
   ]
  },
  {
   "cell_type": "code",
   "execution_count": 9,
   "id": "326644bc",
   "metadata": {},
   "outputs": [],
   "source": [
    "#The match.by_id function returns a JSON containing all the information about a game\n",
    "def get_match(my_region,match_id):\n",
    "    match=watcher.match.by_id(my_region,match_id)\n",
    "    return match"
   ]
  },
  {
   "cell_type": "code",
   "execution_count": 10,
   "id": "0374db25",
   "metadata": {},
   "outputs": [
    {
     "data": {
      "text/plain": [
       "'EUW1_6349558955'"
      ]
     },
     "execution_count": 10,
     "metadata": {},
     "output_type": "execute_result"
    }
   ],
   "source": [
    "#We work with the first match of the list\n",
    "match=get_match(my_region,matches_list[0])\n",
    "match['metadata']['matchId']"
   ]
  },
  {
   "cell_type": "markdown",
   "id": "e7e27dd6",
   "metadata": {},
   "source": [
    "#### Getting list of summoners's puuid in the match using metadata item"
   ]
  },
  {
   "cell_type": "code",
   "execution_count": 11,
   "id": "3b347bbb",
   "metadata": {},
   "outputs": [
    {
     "data": {
      "text/plain": [
       "['La6KBkKxEZGOS-jBVIqKsS8PzTvxz7BP_k_AIeK-EkbUrCgHgGy3UW1XGX4h6qN4S7mnIqwIzCKfYw',\n",
       " 'XHO77Tu6kS8doG9PTTKpwE2qabXAl9U7zVz5WeOQ-vSDboIb1TueOw2FbbhKOMhnZIdxphfqm5vZaA',\n",
       " 'Bk8A3yDI4mUKGgXvAUz8gnFXTbFHjezYlSap4E6i_eYCI96b0h5XmZdaM6L-8s3l76MizQ60SZIy4A',\n",
       " 'dZvlG4d9pChmlZW6aLSdnYe65sC_Nn5D4YUA0VXTwMkhZrhNC1-gzHfo8ri66SpEHmj4tNbcoD3Ogw',\n",
       " 'RGqYvPKd2QdADVkFQ8mawBREzipIRl1RFThTpwLUOzv6xyumTdWrW1-Z54r27nuQomIkx17R1baNrQ',\n",
       " '9MnJYOYJEpv35p9bVZFanWmGq9GRRiysWQllaPS1Ai3mYyVAJj-YELkl9tm3q_D1cYZ8US8_qDhGNA',\n",
       " 'O26Iv7GwOaD1geGVDpPjhPb8sqlmq2hwQPfbAo_6E7HyimI6yaS3Za3t4OeRj558InVBD7KYHZt71A',\n",
       " 'CdqVMgkKa_TL8VdnBw39tStj6Tt8YWoTxoUvM7RyAyQEUZ_jyx4b72lRlp8-xpMpP6kfxDVe7YVqAA',\n",
       " 'XIotV0X8NoWbqHmZMjOzYnk5rfmvehZz2LJzBmkA_107DmG4i6826u2SEJ9zbhLATzO3G7PAjvjMJg',\n",
       " 'RMeOALi79F21XWbSxNvnUmtS535WIGMhDbIrTkdDfecpTo7aho823w8kfo5puf0kN07kh4B_xRmT8g']"
      ]
     },
     "execution_count": 11,
     "metadata": {},
     "output_type": "execute_result"
    }
   ],
   "source": [
    "#List of all the game's participants with puuids\n",
    "match['metadata']['participants']"
   ]
  },
  {
   "cell_type": "code",
   "execution_count": 12,
   "id": "16667cb2",
   "metadata": {},
   "outputs": [
    {
     "data": {
      "text/plain": [
       "0"
      ]
     },
     "execution_count": 12,
     "metadata": {},
     "output_type": "execute_result"
    }
   ],
   "source": [
    "#get your index in a game, will be usefull later\n",
    "puuid=my_profile['puuid']\n",
    "participants = match['metadata']['participants']\n",
    "# Now, find where in the data our players puuid is found\n",
    "player_index = participants.index(puuid)\n",
    "player_index"
   ]
  },
  {
   "cell_type": "code",
   "execution_count": 13,
   "id": "21c7a936",
   "metadata": {},
   "outputs": [
    {
     "data": {
      "text/plain": [
       "{'id': '2yWfVNJBjfnX7cP44HMRIbk-y4ERMgyZR8OaH4bitgs5BhM',\n",
       " 'accountId': 'JhYLPxAvbDjC22cJMKdlGWI1rOHBtuzfKjAAyGvL1dBzLg',\n",
       " 'puuid': 'Bk8A3yDI4mUKGgXvAUz8gnFXTbFHjezYlSap4E6i_eYCI96b0h5XmZdaM6L-8s3l76MizQ60SZIy4A',\n",
       " 'name': 'H4riis',\n",
       " 'profileIconId': 1296,\n",
       " 'revisionDate': 1680818073000,\n",
       " 'summonerLevel': 165}"
      ]
     },
     "execution_count": 13,
     "metadata": {},
     "output_type": "execute_result"
    }
   ],
   "source": [
    "summoner=watcher.summoner.by_puuid(my_region,match['metadata']['participants'][2])\n",
    "summoner"
   ]
  },
  {
   "cell_type": "markdown",
   "id": "8fcf3861",
   "metadata": {},
   "source": [
    "#### Using info"
   ]
  },
  {
   "cell_type": "code",
   "execution_count": 14,
   "id": "56788e70",
   "metadata": {},
   "outputs": [
    {
     "data": {
      "text/plain": [
       "'MamaYumYum'"
      ]
     },
     "execution_count": 14,
     "metadata": {},
     "output_type": "execute_result"
    }
   ],
   "source": [
    "match['info']['participants'][0]['summonerName']"
   ]
  },
  {
   "cell_type": "code",
   "execution_count": 15,
   "id": "bccaf648",
   "metadata": {},
   "outputs": [
    {
     "data": {
      "text/plain": [
       "{'id': 'tfQ1hZABPAxKvX6rkgpqWE7UszeqS8sq7lieyKopKUMu3Z0',\n",
       " 'accountId': 'RiVjJkjVb_T-e_hgpmXYL6oLTO6G8uGjre8oOQM7-sdaSQ',\n",
       " 'puuid': 'La6KBkKxEZGOS-jBVIqKsS8PzTvxz7BP_k_AIeK-EkbUrCgHgGy3UW1XGX4h6qN4S7mnIqwIzCKfYw',\n",
       " 'name': 'MamaYumYum',\n",
       " 'profileIconId': 5622,\n",
       " 'revisionDate': 1680818073000,\n",
       " 'summonerLevel': 525}"
      ]
     },
     "execution_count": 15,
     "metadata": {},
     "output_type": "execute_result"
    }
   ],
   "source": [
    "summoner_name=watcher.summoner.by_puuid(my_region,match['info']['participants'][0]['puuid'])\n",
    "summoner_name"
   ]
  },
  {
   "cell_type": "markdown",
   "id": "0e32e00d",
   "metadata": {},
   "source": [
    "#### List of game's participants"
   ]
  },
  {
   "cell_type": "code",
   "execution_count": 16,
   "id": "c2b3b0e0",
   "metadata": {},
   "outputs": [],
   "source": [
    "def get_list_participants(my_region,match_id):\n",
    "    match=get_match(my_region,match_id)\n",
    "    list_participants=[]\n",
    "    for element in match['metadata']['participants']:\n",
    "        profile=watcher.summoner.by_puuid(my_region,element)\n",
    "        list_participants.append(profile['name'])\n",
    "    return list_participants"
   ]
  },
  {
   "cell_type": "code",
   "execution_count": 17,
   "id": "a043ffca",
   "metadata": {},
   "outputs": [
    {
     "data": {
      "text/plain": [
       "['MamaYumYum',\n",
       " 'DreamAboutMe',\n",
       " 'H4riis',\n",
       " 'Madnate',\n",
       " 'A FullStack Dev',\n",
       " 'Bilbo Lagging',\n",
       " 'Sam Gadji',\n",
       " 'Denis Brossard',\n",
       " 'Conan42O',\n",
       " 'Pr3YsAK']"
      ]
     },
     "execution_count": 17,
     "metadata": {},
     "output_type": "execute_result"
    }
   ],
   "source": [
    "list_participants=get_list_participants(my_region,matches_list[0])\n",
    "list_participants"
   ]
  },
  {
   "cell_type": "markdown",
   "id": "feed9a50",
   "metadata": {},
   "source": [
    "#### Conversion unix timestamp"
   ]
  },
  {
   "cell_type": "code",
   "execution_count": 18,
   "id": "229080de",
   "metadata": {},
   "outputs": [],
   "source": [
    "# This function will convert unix time into a date, it can be used for further works\n",
    "# for ex: Game per day,games played during a certain period etc...\n",
    "def get_date(unix_time):\n",
    "    date_time = datetime.datetime.fromtimestamp(unix_time/1000)\n",
    "    date=date_time.strftime('%Y-%m-%d %H:%M:%S')\n",
    "    return date"
   ]
  },
  {
   "cell_type": "code",
   "execution_count": 19,
   "id": "cd193451",
   "metadata": {},
   "outputs": [
    {
     "data": {
      "text/plain": [
       "'2023-04-06 23:33:37'"
      ]
     },
     "execution_count": 19,
     "metadata": {},
     "output_type": "execute_result"
    }
   ],
   "source": [
    "\n",
    "unix_time = match['info']['gameCreation']\n",
    "get_date(unix_time)"
   ]
  },
  {
   "cell_type": "markdown",
   "id": "f7923c5b",
   "metadata": {},
   "source": [
    "## Game Details  \n"
   ]
  },
  {
   "cell_type": "code",
   "execution_count": 20,
   "id": "384bbb55",
   "metadata": {},
   "outputs": [],
   "source": [
    "# This function gives information about the last game using matches_list\n",
    "#queueId is an integer that gives us the game mode\n",
    "#400 : Draft game  \n",
    "#420 : Ranked game  \n",
    "#440 : Ranked flex  \n",
    "#450 : ARAM\n",
    "\n",
    "def game_results_resume(matches_list):\n",
    "    game_results_df=[]\n",
    "    for match in matches_list:\n",
    "        match_json=get_match(my_region,match)\n",
    "        \n",
    "        #We get the player_index to get to match_json['info']['participants'][player_index]['win']\n",
    "        #We can't use match_json['info']['teams']['win'] as we are not appearing at the same index in each game depending\n",
    "        # on blue side and red side.\n",
    "        participants = match_json['metadata']['participants']\n",
    "        player_index = participants.index(puuid)\n",
    "        \n",
    "        info_row={}\n",
    "        info_row['gameId']=match_json['metadata']['matchId']\n",
    "        info_row['Type']=match_json['info']['gameMode']\n",
    "        info_row['queueId']=match_json['info']['queueId']\n",
    "        info_row['Win']=match_json['info']['participants'][player_index]['win']\n",
    "        info_row['Game Duration']=match_json['info']['gameDuration']/60\n",
    "        info_row['Date']=get_date(match_json['info']['gameCreation'])\n",
    "        game_results_df.append(info_row)\n",
    "    df=pd.DataFrame(game_results_df)\n",
    "    return df\n",
    "       \n",
    "            \n",
    "    "
   ]
  },
  {
   "cell_type": "code",
   "execution_count": 21,
   "id": "c6b360f3",
   "metadata": {},
   "outputs": [
    {
     "data": {
      "text/html": [
       "<div>\n",
       "<style scoped>\n",
       "    .dataframe tbody tr th:only-of-type {\n",
       "        vertical-align: middle;\n",
       "    }\n",
       "\n",
       "    .dataframe tbody tr th {\n",
       "        vertical-align: top;\n",
       "    }\n",
       "\n",
       "    .dataframe thead th {\n",
       "        text-align: right;\n",
       "    }\n",
       "</style>\n",
       "<table border=\"1\" class=\"dataframe\">\n",
       "  <thead>\n",
       "    <tr style=\"text-align: right;\">\n",
       "      <th></th>\n",
       "      <th>gameId</th>\n",
       "      <th>Type</th>\n",
       "      <th>queueId</th>\n",
       "      <th>Win</th>\n",
       "      <th>Game Duration</th>\n",
       "      <th>Date</th>\n",
       "    </tr>\n",
       "  </thead>\n",
       "  <tbody>\n",
       "    <tr>\n",
       "      <th>0</th>\n",
       "      <td>EUW1_6349558955</td>\n",
       "      <td>ARAM</td>\n",
       "      <td>450</td>\n",
       "      <td>True</td>\n",
       "      <td>20.500000</td>\n",
       "      <td>2023-04-06 23:33:37</td>\n",
       "    </tr>\n",
       "    <tr>\n",
       "      <th>1</th>\n",
       "      <td>EUW1_6349503397</td>\n",
       "      <td>ARAM</td>\n",
       "      <td>450</td>\n",
       "      <td>False</td>\n",
       "      <td>23.983333</td>\n",
       "      <td>2023-04-06 23:06:15</td>\n",
       "    </tr>\n",
       "    <tr>\n",
       "      <th>2</th>\n",
       "      <td>EUW1_6347767990</td>\n",
       "      <td>CLASSIC</td>\n",
       "      <td>400</td>\n",
       "      <td>True</td>\n",
       "      <td>28.600000</td>\n",
       "      <td>2023-04-05 19:31:09</td>\n",
       "    </tr>\n",
       "    <tr>\n",
       "      <th>3</th>\n",
       "      <td>EUW1_6346829954</td>\n",
       "      <td>ARAM</td>\n",
       "      <td>450</td>\n",
       "      <td>False</td>\n",
       "      <td>22.266667</td>\n",
       "      <td>2023-04-04 23:12:51</td>\n",
       "    </tr>\n",
       "    <tr>\n",
       "      <th>4</th>\n",
       "      <td>EUW1_6346406135</td>\n",
       "      <td>ARAM</td>\n",
       "      <td>450</td>\n",
       "      <td>True</td>\n",
       "      <td>18.950000</td>\n",
       "      <td>2023-04-04 19:30:31</td>\n",
       "    </tr>\n",
       "    <tr>\n",
       "      <th>5</th>\n",
       "      <td>EUW1_6346377480</td>\n",
       "      <td>CLASSIC</td>\n",
       "      <td>400</td>\n",
       "      <td>False</td>\n",
       "      <td>15.100000</td>\n",
       "      <td>2023-04-04 19:11:14</td>\n",
       "    </tr>\n",
       "    <tr>\n",
       "      <th>6</th>\n",
       "      <td>EUW1_6345492861</td>\n",
       "      <td>ARAM</td>\n",
       "      <td>450</td>\n",
       "      <td>False</td>\n",
       "      <td>20.300000</td>\n",
       "      <td>2023-04-03 23:50:23</td>\n",
       "    </tr>\n",
       "    <tr>\n",
       "      <th>7</th>\n",
       "      <td>EUW1_6344920335</td>\n",
       "      <td>ARAM</td>\n",
       "      <td>450</td>\n",
       "      <td>True</td>\n",
       "      <td>19.766667</td>\n",
       "      <td>2023-04-03 18:55:48</td>\n",
       "    </tr>\n",
       "    <tr>\n",
       "      <th>8</th>\n",
       "      <td>EUW1_6344828393</td>\n",
       "      <td>CLASSIC</td>\n",
       "      <td>420</td>\n",
       "      <td>True</td>\n",
       "      <td>26.083333</td>\n",
       "      <td>2023-04-03 18:02:53</td>\n",
       "    </tr>\n",
       "    <tr>\n",
       "      <th>9</th>\n",
       "      <td>EUW1_6344780310</td>\n",
       "      <td>CLASSIC</td>\n",
       "      <td>420</td>\n",
       "      <td>False</td>\n",
       "      <td>24.866667</td>\n",
       "      <td>2023-04-03 17:29:46</td>\n",
       "    </tr>\n",
       "    <tr>\n",
       "      <th>10</th>\n",
       "      <td>EUW1_6340799573</td>\n",
       "      <td>ARAM</td>\n",
       "      <td>450</td>\n",
       "      <td>True</td>\n",
       "      <td>18.583333</td>\n",
       "      <td>2023-04-01 00:01:06</td>\n",
       "    </tr>\n",
       "    <tr>\n",
       "      <th>11</th>\n",
       "      <td>EUW1_6340749762</td>\n",
       "      <td>ARAM</td>\n",
       "      <td>450</td>\n",
       "      <td>True</td>\n",
       "      <td>20.500000</td>\n",
       "      <td>2023-03-31 23:36:14</td>\n",
       "    </tr>\n",
       "    <tr>\n",
       "      <th>12</th>\n",
       "      <td>EUW1_6335975261</td>\n",
       "      <td>CLASSIC</td>\n",
       "      <td>400</td>\n",
       "      <td>True</td>\n",
       "      <td>33.900000</td>\n",
       "      <td>2023-03-28 19:26:01</td>\n",
       "    </tr>\n",
       "    <tr>\n",
       "      <th>13</th>\n",
       "      <td>EUW1_6335029842</td>\n",
       "      <td>ARAM</td>\n",
       "      <td>450</td>\n",
       "      <td>True</td>\n",
       "      <td>17.133333</td>\n",
       "      <td>2023-03-27 23:17:12</td>\n",
       "    </tr>\n",
       "    <tr>\n",
       "      <th>14</th>\n",
       "      <td>EUW1_6334965764</td>\n",
       "      <td>ARAM</td>\n",
       "      <td>450</td>\n",
       "      <td>False</td>\n",
       "      <td>26.316667</td>\n",
       "      <td>2023-03-27 22:43:54</td>\n",
       "    </tr>\n",
       "    <tr>\n",
       "      <th>15</th>\n",
       "      <td>EUW1_6333590234</td>\n",
       "      <td>ARAM</td>\n",
       "      <td>450</td>\n",
       "      <td>True</td>\n",
       "      <td>19.933333</td>\n",
       "      <td>2023-03-26 23:20:20</td>\n",
       "    </tr>\n",
       "    <tr>\n",
       "      <th>16</th>\n",
       "      <td>EUW1_6333492894</td>\n",
       "      <td>CLASSIC</td>\n",
       "      <td>440</td>\n",
       "      <td>False</td>\n",
       "      <td>39.183333</td>\n",
       "      <td>2023-03-26 22:30:16</td>\n",
       "    </tr>\n",
       "    <tr>\n",
       "      <th>17</th>\n",
       "      <td>EUW1_6328709921</td>\n",
       "      <td>ARAM</td>\n",
       "      <td>450</td>\n",
       "      <td>True</td>\n",
       "      <td>24.133333</td>\n",
       "      <td>2023-03-23 22:38:23</td>\n",
       "    </tr>\n",
       "    <tr>\n",
       "      <th>18</th>\n",
       "      <td>EUW1_6328662160</td>\n",
       "      <td>ARAM</td>\n",
       "      <td>450</td>\n",
       "      <td>False</td>\n",
       "      <td>17.233333</td>\n",
       "      <td>2023-03-23 22:17:35</td>\n",
       "    </tr>\n",
       "    <tr>\n",
       "      <th>19</th>\n",
       "      <td>EUW1_6328212297</td>\n",
       "      <td>ARAM</td>\n",
       "      <td>450</td>\n",
       "      <td>True</td>\n",
       "      <td>22.083333</td>\n",
       "      <td>2023-03-23 19:23:06</td>\n",
       "    </tr>\n",
       "  </tbody>\n",
       "</table>\n",
       "</div>"
      ],
      "text/plain": [
       "             gameId     Type  queueId    Win  Game Duration  \\\n",
       "0   EUW1_6349558955     ARAM      450   True      20.500000   \n",
       "1   EUW1_6349503397     ARAM      450  False      23.983333   \n",
       "2   EUW1_6347767990  CLASSIC      400   True      28.600000   \n",
       "3   EUW1_6346829954     ARAM      450  False      22.266667   \n",
       "4   EUW1_6346406135     ARAM      450   True      18.950000   \n",
       "5   EUW1_6346377480  CLASSIC      400  False      15.100000   \n",
       "6   EUW1_6345492861     ARAM      450  False      20.300000   \n",
       "7   EUW1_6344920335     ARAM      450   True      19.766667   \n",
       "8   EUW1_6344828393  CLASSIC      420   True      26.083333   \n",
       "9   EUW1_6344780310  CLASSIC      420  False      24.866667   \n",
       "10  EUW1_6340799573     ARAM      450   True      18.583333   \n",
       "11  EUW1_6340749762     ARAM      450   True      20.500000   \n",
       "12  EUW1_6335975261  CLASSIC      400   True      33.900000   \n",
       "13  EUW1_6335029842     ARAM      450   True      17.133333   \n",
       "14  EUW1_6334965764     ARAM      450  False      26.316667   \n",
       "15  EUW1_6333590234     ARAM      450   True      19.933333   \n",
       "16  EUW1_6333492894  CLASSIC      440  False      39.183333   \n",
       "17  EUW1_6328709921     ARAM      450   True      24.133333   \n",
       "18  EUW1_6328662160     ARAM      450  False      17.233333   \n",
       "19  EUW1_6328212297     ARAM      450   True      22.083333   \n",
       "\n",
       "                   Date  \n",
       "0   2023-04-06 23:33:37  \n",
       "1   2023-04-06 23:06:15  \n",
       "2   2023-04-05 19:31:09  \n",
       "3   2023-04-04 23:12:51  \n",
       "4   2023-04-04 19:30:31  \n",
       "5   2023-04-04 19:11:14  \n",
       "6   2023-04-03 23:50:23  \n",
       "7   2023-04-03 18:55:48  \n",
       "8   2023-04-03 18:02:53  \n",
       "9   2023-04-03 17:29:46  \n",
       "10  2023-04-01 00:01:06  \n",
       "11  2023-03-31 23:36:14  \n",
       "12  2023-03-28 19:26:01  \n",
       "13  2023-03-27 23:17:12  \n",
       "14  2023-03-27 22:43:54  \n",
       "15  2023-03-26 23:20:20  \n",
       "16  2023-03-26 22:30:16  \n",
       "17  2023-03-23 22:38:23  \n",
       "18  2023-03-23 22:17:35  \n",
       "19  2023-03-23 19:23:06  "
      ]
     },
     "execution_count": 21,
     "metadata": {},
     "output_type": "execute_result"
    }
   ],
   "source": [
    "game_results=game_results_resume(matches_list)\n",
    "game_results"
   ]
  },
  {
   "cell_type": "code",
   "execution_count": 22,
   "id": "b5278f2c",
   "metadata": {},
   "outputs": [],
   "source": [
    "#We build a function that gives a game's summary similar to the ones we can get on opgg or leagueofgraph.\n",
    "def game_summary(my_region,match_id):\n",
    "    game_summary_df=[]\n",
    "    match=get_match(my_region,match_id)\n",
    "    game_info=match['info']\n",
    "    \n",
    "    for row in game_info['participants']:\n",
    "        participants_row={}\n",
    "        participants_row['summonerName']=row['summonerName']\n",
    "        #There is no role or lane in ARAM mode\n",
    "        if row['individualPosition']==\"Invalid\":\n",
    "            participants_row['lane']='ARAM'\n",
    "        else:  \n",
    "            participants_row['lane']=row['individualPosition']\n",
    "        participants_row['champion']=row['championName']\n",
    "        participants_row['kills']=row['kills']        \n",
    "        participants_row['deaths']=row['deaths']\n",
    "        participants_row['assists']=row['assists']\n",
    "        if row['deaths']==0:\n",
    "            participants_row['kda']=row['kills']+row['assists']\n",
    "        else:\n",
    "            participants_row['kda']=round((row['kills']+row['assists'])/row['deaths']\n",
    "                                       ,2)\n",
    "        participants_row['total damages']=row['totalDamageDealtToChampions']\n",
    "        participants_row['win']=row['win']\n",
    "        game_summary_df.append(participants_row)\n",
    "    df=pd.DataFrame(game_summary_df)\n",
    "    return df\n",
    "    \n"
   ]
  },
  {
   "cell_type": "code",
   "execution_count": 23,
   "id": "27e9e244",
   "metadata": {},
   "outputs": [
    {
     "data": {
      "text/plain": [
       "'EUW1_6349558955'"
      ]
     },
     "execution_count": 23,
     "metadata": {},
     "output_type": "execute_result"
    }
   ],
   "source": [
    "matches_list[0]"
   ]
  },
  {
   "cell_type": "code",
   "execution_count": 24,
   "id": "081147e5",
   "metadata": {},
   "outputs": [
    {
     "data": {
      "text/html": [
       "<div>\n",
       "<style scoped>\n",
       "    .dataframe tbody tr th:only-of-type {\n",
       "        vertical-align: middle;\n",
       "    }\n",
       "\n",
       "    .dataframe tbody tr th {\n",
       "        vertical-align: top;\n",
       "    }\n",
       "\n",
       "    .dataframe thead th {\n",
       "        text-align: right;\n",
       "    }\n",
       "</style>\n",
       "<table border=\"1\" class=\"dataframe\">\n",
       "  <thead>\n",
       "    <tr style=\"text-align: right;\">\n",
       "      <th></th>\n",
       "      <th>summonerName</th>\n",
       "      <th>lane</th>\n",
       "      <th>champion</th>\n",
       "      <th>kills</th>\n",
       "      <th>deaths</th>\n",
       "      <th>assists</th>\n",
       "      <th>kda</th>\n",
       "      <th>total damages</th>\n",
       "      <th>win</th>\n",
       "    </tr>\n",
       "  </thead>\n",
       "  <tbody>\n",
       "    <tr>\n",
       "      <th>0</th>\n",
       "      <td>MamaYumYum</td>\n",
       "      <td>ARAM</td>\n",
       "      <td>Vex</td>\n",
       "      <td>10</td>\n",
       "      <td>8</td>\n",
       "      <td>27</td>\n",
       "      <td>4.62</td>\n",
       "      <td>43533</td>\n",
       "      <td>True</td>\n",
       "    </tr>\n",
       "    <tr>\n",
       "      <th>1</th>\n",
       "      <td>DreamAboutMe</td>\n",
       "      <td>ARAM</td>\n",
       "      <td>Pyke</td>\n",
       "      <td>11</td>\n",
       "      <td>8</td>\n",
       "      <td>19</td>\n",
       "      <td>3.75</td>\n",
       "      <td>14531</td>\n",
       "      <td>True</td>\n",
       "    </tr>\n",
       "    <tr>\n",
       "      <th>2</th>\n",
       "      <td>H4riis</td>\n",
       "      <td>ARAM</td>\n",
       "      <td>Lucian</td>\n",
       "      <td>16</td>\n",
       "      <td>7</td>\n",
       "      <td>15</td>\n",
       "      <td>4.43</td>\n",
       "      <td>29506</td>\n",
       "      <td>True</td>\n",
       "    </tr>\n",
       "    <tr>\n",
       "      <th>3</th>\n",
       "      <td>Madnate</td>\n",
       "      <td>ARAM</td>\n",
       "      <td>Vi</td>\n",
       "      <td>10</td>\n",
       "      <td>12</td>\n",
       "      <td>19</td>\n",
       "      <td>2.42</td>\n",
       "      <td>27564</td>\n",
       "      <td>True</td>\n",
       "    </tr>\n",
       "    <tr>\n",
       "      <th>4</th>\n",
       "      <td>A FullStack Dev</td>\n",
       "      <td>ARAM</td>\n",
       "      <td>Udyr</td>\n",
       "      <td>4</td>\n",
       "      <td>8</td>\n",
       "      <td>38</td>\n",
       "      <td>5.25</td>\n",
       "      <td>18946</td>\n",
       "      <td>True</td>\n",
       "    </tr>\n",
       "    <tr>\n",
       "      <th>5</th>\n",
       "      <td>Bilbo Lagging</td>\n",
       "      <td>ARAM</td>\n",
       "      <td>Jayce</td>\n",
       "      <td>8</td>\n",
       "      <td>13</td>\n",
       "      <td>17</td>\n",
       "      <td>1.92</td>\n",
       "      <td>22914</td>\n",
       "      <td>False</td>\n",
       "    </tr>\n",
       "    <tr>\n",
       "      <th>6</th>\n",
       "      <td>Sam Gadji</td>\n",
       "      <td>ARAM</td>\n",
       "      <td>Varus</td>\n",
       "      <td>11</td>\n",
       "      <td>8</td>\n",
       "      <td>17</td>\n",
       "      <td>3.50</td>\n",
       "      <td>26898</td>\n",
       "      <td>False</td>\n",
       "    </tr>\n",
       "    <tr>\n",
       "      <th>7</th>\n",
       "      <td>Denis Brossard</td>\n",
       "      <td>ARAM</td>\n",
       "      <td>Urgot</td>\n",
       "      <td>4</td>\n",
       "      <td>13</td>\n",
       "      <td>20</td>\n",
       "      <td>1.85</td>\n",
       "      <td>15471</td>\n",
       "      <td>False</td>\n",
       "    </tr>\n",
       "    <tr>\n",
       "      <th>8</th>\n",
       "      <td>Conan42O</td>\n",
       "      <td>ARAM</td>\n",
       "      <td>Caitlyn</td>\n",
       "      <td>9</td>\n",
       "      <td>11</td>\n",
       "      <td>20</td>\n",
       "      <td>2.64</td>\n",
       "      <td>23272</td>\n",
       "      <td>False</td>\n",
       "    </tr>\n",
       "    <tr>\n",
       "      <th>9</th>\n",
       "      <td>Pr3YsAK</td>\n",
       "      <td>ARAM</td>\n",
       "      <td>Nidalee</td>\n",
       "      <td>9</td>\n",
       "      <td>6</td>\n",
       "      <td>17</td>\n",
       "      <td>4.33</td>\n",
       "      <td>15302</td>\n",
       "      <td>False</td>\n",
       "    </tr>\n",
       "  </tbody>\n",
       "</table>\n",
       "</div>"
      ],
      "text/plain": [
       "      summonerName  lane champion  kills  deaths  assists   kda  \\\n",
       "0       MamaYumYum  ARAM      Vex     10       8       27  4.62   \n",
       "1     DreamAboutMe  ARAM     Pyke     11       8       19  3.75   \n",
       "2           H4riis  ARAM   Lucian     16       7       15  4.43   \n",
       "3          Madnate  ARAM       Vi     10      12       19  2.42   \n",
       "4  A FullStack Dev  ARAM     Udyr      4       8       38  5.25   \n",
       "5    Bilbo Lagging  ARAM    Jayce      8      13       17  1.92   \n",
       "6        Sam Gadji  ARAM    Varus     11       8       17  3.50   \n",
       "7   Denis Brossard  ARAM    Urgot      4      13       20  1.85   \n",
       "8         Conan42O  ARAM  Caitlyn      9      11       20  2.64   \n",
       "9          Pr3YsAK  ARAM  Nidalee      9       6       17  4.33   \n",
       "\n",
       "   total damages    win  \n",
       "0          43533   True  \n",
       "1          14531   True  \n",
       "2          29506   True  \n",
       "3          27564   True  \n",
       "4          18946   True  \n",
       "5          22914  False  \n",
       "6          26898  False  \n",
       "7          15471  False  \n",
       "8          23272  False  \n",
       "9          15302  False  "
      ]
     },
     "execution_count": 24,
     "metadata": {},
     "output_type": "execute_result"
    }
   ],
   "source": [
    "# I used a game that wasn't an aram\n",
    "game_summary=game_summary(my_region, matches_list[0])\n",
    "\n",
    "game_summary\n"
   ]
  },
  {
   "cell_type": "markdown",
   "id": "f622c83b",
   "metadata": {},
   "source": [
    "## Champions details"
   ]
  },
  {
   "cell_type": "code",
   "execution_count": 25,
   "id": "d47af05e",
   "metadata": {},
   "outputs": [],
   "source": [
    "#This function returns a list of the last champions played in the last nbMatches matches\n",
    "def last_champ_played(my_region, my_summoner,nbMatches):\n",
    "    last_champ_played=[]\n",
    "    match_list=get_matches_list(my_region,my_summoner,nbMatches)\n",
    "    for match in match_list:\n",
    "        match_played=watcher.match.by_id(my_region,match)\n",
    "        for participants in match_played['info']['participants']:\n",
    "            if participants['summonerName']==my_summoner:\n",
    "                last_champ_played.append(participants['championName'])\n",
    "                break\n",
    "    return last_champ_played"
   ]
  },
  {
   "cell_type": "code",
   "execution_count": 26,
   "id": "e6ff0129",
   "metadata": {},
   "outputs": [
    {
     "data": {
      "text/plain": [
       "['Vex',\n",
       " 'Kennen',\n",
       " 'Cassiopeia',\n",
       " 'Singed',\n",
       " 'Kassadin',\n",
       " 'Cassiopeia',\n",
       " 'Vi',\n",
       " 'AurelionSol',\n",
       " 'Zed',\n",
       " 'Yone',\n",
       " 'Chogath',\n",
       " 'Zed',\n",
       " 'Gragas',\n",
       " 'Neeko',\n",
       " 'Sylas',\n",
       " 'Yasuo',\n",
       " 'Jayce',\n",
       " 'Shyvana',\n",
       " 'Fiora',\n",
       " 'Taric']"
      ]
     },
     "execution_count": 26,
     "metadata": {},
     "output_type": "execute_result"
    }
   ],
   "source": [
    "last_champ_played=last_champ_played(my_region,my_summoner,nbMatches)\n",
    "last_champ_played"
   ]
  },
  {
   "cell_type": "code",
   "execution_count": 102,
   "id": "21508186",
   "metadata": {},
   "outputs": [],
   "source": [
    "#We can do the same function using matches_list only\n",
    "\n",
    "def list_champ_I_played(matches_list):\n",
    "    champ_list=[]\n",
    "    for match in matches_list:\n",
    "        match_played=watcher.match.by_id(my_region,match)\n",
    "        for participants in match_played['info']['participants']:\n",
    "            if participants['summonerName']==my_summoner:\n",
    "                champ_list.append(participants['championName'])\n",
    "                break\n",
    "    return champ_list\n",
    "    "
   ]
  },
  {
   "cell_type": "code",
   "execution_count": 103,
   "id": "5e7b6c40",
   "metadata": {},
   "outputs": [
    {
     "data": {
      "text/plain": [
       "['Vex',\n",
       " 'Kennen',\n",
       " 'Cassiopeia',\n",
       " 'Singed',\n",
       " 'Kassadin',\n",
       " 'Cassiopeia',\n",
       " 'Vi',\n",
       " 'AurelionSol',\n",
       " 'Zed',\n",
       " 'Yone',\n",
       " 'Chogath',\n",
       " 'Zed',\n",
       " 'Gragas',\n",
       " 'Neeko',\n",
       " 'Sylas',\n",
       " 'Yasuo',\n",
       " 'Jayce',\n",
       " 'Shyvana',\n",
       " 'Fiora',\n",
       " 'Taric']"
      ]
     },
     "execution_count": 103,
     "metadata": {},
     "output_type": "execute_result"
    }
   ],
   "source": [
    "champ_played=list_champ_I_played(matches_list)\n",
    "champ_played"
   ]
  },
  {
   "cell_type": "code",
   "execution_count": 130,
   "id": "9becca56",
   "metadata": {},
   "outputs": [],
   "source": [
    "def all_champ_played(matches_list):\n",
    "    champ_list=[]\n",
    "    for match in matches_list:\n",
    "        match_played=watcher.match.by_id(my_region,match)\n",
    "        for participants in match_played['info']['participants']:\n",
    "            champ_list.append(participants['championName'])\n",
    "    return champ_list\n",
    "    "
   ]
  },
  {
   "cell_type": "code",
   "execution_count": 131,
   "id": "14c144fe",
   "metadata": {},
   "outputs": [],
   "source": [
    "all_champ=all_champ_played(matches_list)"
   ]
  },
  {
   "cell_type": "code",
   "execution_count": 132,
   "id": "2fe244e8",
   "metadata": {},
   "outputs": [
    {
     "data": {
      "text/plain": [
       "200"
      ]
     },
     "execution_count": 132,
     "metadata": {},
     "output_type": "execute_result"
    }
   ],
   "source": [
    "len(all_champ)"
   ]
  },
  {
   "cell_type": "code",
   "execution_count": 133,
   "id": "1df1ac1b",
   "metadata": {},
   "outputs": [
    {
     "data": {
      "text/plain": [
       "[('Milio', 5),\n",
       " ('Zed', 5),\n",
       " ('Vi', 4),\n",
       " ('Jayce', 4),\n",
       " ('Caitlyn', 4),\n",
       " ('Seraphine', 4),\n",
       " ('Kaisa', 4),\n",
       " ('Annie', 4),\n",
       " ('Senna', 4),\n",
       " ('Pyke', 3),\n",
       " ('Urgot', 3),\n",
       " ('Corki', 3),\n",
       " ('Nautilus', 3),\n",
       " ('MissFortune', 3),\n",
       " ('Jhin', 3)]"
      ]
     },
     "execution_count": 133,
     "metadata": {},
     "output_type": "execute_result"
    }
   ],
   "source": [
    "#Using Counter to show champs played\n",
    "#Counter creates a dict\n",
    "from collections import Counter\n",
    "z=Counter(all_champ).most_common(15)\n",
    "z"
   ]
  },
  {
   "cell_type": "code",
   "execution_count": 32,
   "id": "5efab7b0",
   "metadata": {},
   "outputs": [
    {
     "data": {
      "text/plain": [
       "Milio         5\n",
       "Zed           5\n",
       "Caitlyn       4\n",
       "Senna         4\n",
       "Vi            4\n",
       "             ..\n",
       "Viktor        1\n",
       "MonkeyKing    1\n",
       "Gwen          1\n",
       "Talon         1\n",
       "Taric         1\n",
       "Length: 109, dtype: int64"
      ]
     },
     "execution_count": 32,
     "metadata": {},
     "output_type": "execute_result"
    }
   ],
   "source": [
    "#Using pd.Series to show champs played\n",
    "series=pd.Series(all_champ).value_counts()\n",
    "series\n"
   ]
  },
  {
   "cell_type": "markdown",
   "id": "a5407b69",
   "metadata": {},
   "source": [
    "## Filtering the games\n",
    "\n",
    "\n"
   ]
  },
  {
   "cell_type": "code",
   "execution_count": 33,
   "id": "acfdcd2f",
   "metadata": {},
   "outputs": [],
   "source": [
    "#We only want ranked or ranked flex games. We get rid of the other games with the attribute 'queueId'.  \n",
    "\n",
    "def ranked_list(matches_list):   \n",
    "    ranked_list=[]\n",
    "    for games in matches_list:\n",
    "        match_played=watcher.match.by_id(my_region,games)\n",
    "        if match_played['info']['queueId']== 420 or match_played['info']['queueId']== 440  :\n",
    "            ranked_list.append(match_played['metadata']['matchId'])\n",
    "    return ranked_list\n",
    "            \n",
    "    "
   ]
  },
  {
   "cell_type": "code",
   "execution_count": 34,
   "id": "ba57cdbf",
   "metadata": {},
   "outputs": [
    {
     "data": {
      "text/plain": [
       "['EUW1_6344828393', 'EUW1_6344780310', 'EUW1_6333492894']"
      ]
     },
     "execution_count": 34,
     "metadata": {},
     "output_type": "execute_result"
    }
   ],
   "source": [
    "#Only played 3 rankeds in my last 20 games\n",
    "ranked_list=ranked_list(matches_list)\n",
    "ranked_list"
   ]
  },
  {
   "cell_type": "code",
   "execution_count": 35,
   "id": "4dbcbf41",
   "metadata": {},
   "outputs": [
    {
     "data": {
      "text/plain": [
       "['Zed', 'Yone', 'Jayce']"
      ]
     },
     "execution_count": 35,
     "metadata": {},
     "output_type": "execute_result"
    }
   ],
   "source": [
    "#Let's see what champs were played on ranked games\n",
    "champ_ranked=list_champ_played(ranked_list)\n",
    "champ_ranked"
   ]
  },
  {
   "cell_type": "markdown",
   "id": "311257c4",
   "metadata": {},
   "source": [
    "# II. EUW Challengers"
   ]
  },
  {
   "cell_type": "markdown",
   "id": "7cb69e90",
   "metadata": {},
   "source": [
    "### Loading the CSV  \n"
   ]
  },
  {
   "cell_type": "code",
   "execution_count": 136,
   "id": "f19e57e8",
   "metadata": {},
   "outputs": [],
   "source": [
    "#We load the csv containing the first 100 challengers of EUW. See tutorial on webscrapping\n",
    "euw_100 = pd.read_csv('euw_100_challengers')"
   ]
  },
  {
   "cell_type": "code",
   "execution_count": 37,
   "id": "6086890b",
   "metadata": {},
   "outputs": [
    {
     "data": {
      "text/html": [
       "<div>\n",
       "<style scoped>\n",
       "    .dataframe tbody tr th:only-of-type {\n",
       "        vertical-align: middle;\n",
       "    }\n",
       "\n",
       "    .dataframe tbody tr th {\n",
       "        vertical-align: top;\n",
       "    }\n",
       "\n",
       "    .dataframe thead th {\n",
       "        text-align: right;\n",
       "    }\n",
       "</style>\n",
       "<table border=\"1\" class=\"dataframe\">\n",
       "  <thead>\n",
       "    <tr style=\"text-align: right;\">\n",
       "      <th></th>\n",
       "      <th>Summoner name</th>\n",
       "      <th>LP</th>\n",
       "      <th>Winrate</th>\n",
       "    </tr>\n",
       "  </thead>\n",
       "  <tbody>\n",
       "    <tr>\n",
       "      <th>0</th>\n",
       "      <td>Razørk Activoo</td>\n",
       "      <td>1,756 LP</td>\n",
       "      <td>57%</td>\n",
       "    </tr>\n",
       "    <tr>\n",
       "      <th>1</th>\n",
       "      <td>ViV NEXT ADKING</td>\n",
       "      <td>1,745 LP</td>\n",
       "      <td>58%</td>\n",
       "    </tr>\n",
       "    <tr>\n",
       "      <th>2</th>\n",
       "      <td>Thumbs Down</td>\n",
       "      <td>1,647 LP</td>\n",
       "      <td>57%</td>\n",
       "    </tr>\n",
       "    <tr>\n",
       "      <th>3</th>\n",
       "      <td>DzuUwU</td>\n",
       "      <td>1,639 LP</td>\n",
       "      <td>60%</td>\n",
       "    </tr>\n",
       "    <tr>\n",
       "      <th>4</th>\n",
       "      <td>I Love Uber Eats</td>\n",
       "      <td>1,624 LP</td>\n",
       "      <td>54%</td>\n",
       "    </tr>\n",
       "    <tr>\n",
       "      <th>5</th>\n",
       "      <td>Noah7</td>\n",
       "      <td>1,622 LP</td>\n",
       "      <td>59%</td>\n",
       "    </tr>\n",
       "    <tr>\n",
       "      <th>6</th>\n",
       "      <td>S P L A S H 777</td>\n",
       "      <td>1,622 LP</td>\n",
       "      <td>54%</td>\n",
       "    </tr>\n",
       "    <tr>\n",
       "      <th>7</th>\n",
       "      <td>4321455213123</td>\n",
       "      <td>1,604 LP</td>\n",
       "      <td>62%</td>\n",
       "    </tr>\n",
       "    <tr>\n",
       "      <th>8</th>\n",
       "      <td>the inescapable</td>\n",
       "      <td>1,589 LP</td>\n",
       "      <td>60%</td>\n",
       "    </tr>\n",
       "    <tr>\n",
       "      <th>9</th>\n",
       "      <td>Odysseus131</td>\n",
       "      <td>1,557 LP</td>\n",
       "      <td>56%</td>\n",
       "    </tr>\n",
       "  </tbody>\n",
       "</table>\n",
       "</div>"
      ],
      "text/plain": [
       "      Summoner name        LP Winrate\n",
       "0    Razørk Activoo  1,756 LP     57%\n",
       "1   ViV NEXT ADKING  1,745 LP     58%\n",
       "2       Thumbs Down  1,647 LP     57%\n",
       "3            DzuUwU  1,639 LP     60%\n",
       "4  I Love Uber Eats  1,624 LP     54%\n",
       "5             Noah7  1,622 LP     59%\n",
       "6   S P L A S H 777  1,622 LP     54%\n",
       "7     4321455213123  1,604 LP     62%\n",
       "8   the inescapable  1,589 LP     60%\n",
       "9       Odysseus131  1,557 LP     56%"
      ]
     },
     "execution_count": 37,
     "metadata": {},
     "output_type": "execute_result"
    }
   ],
   "source": [
    "euw_100.head(10)"
   ]
  },
  {
   "cell_type": "code",
   "execution_count": 114,
   "id": "7c378739",
   "metadata": {},
   "outputs": [],
   "source": [
    "#We get a list of the summoner's name \n",
    "sum_name_euw = euw_100['Summoner name'].tolist()"
   ]
  },
  {
   "cell_type": "code",
   "execution_count": 142,
   "id": "361e5624",
   "metadata": {},
   "outputs": [
    {
     "data": {
      "text/plain": [
       "['Razørk Activoo',\n",
       " 'ViV NEXT ADKING',\n",
       " 'Thumbs Down',\n",
       " 'DzuUwU',\n",
       " 'I Love Uber Eats',\n",
       " 'Noah7',\n",
       " 'S P L A S H 777',\n",
       " '4321455213123',\n",
       " 'the inescapable',\n",
       " 'Odysseus131',\n",
       " 'Beanovich',\n",
       " 'bigboynumbers',\n",
       " 'supaaaaaaaaaaaaa',\n",
       " 'Stend',\n",
       " 'Twitch Sinerias',\n",
       " 'BDS xMatty',\n",
       " 'school phobia',\n",
       " 'PORTUGUESE GALA',\n",
       " 'Road2Narnia',\n",
       " 'TakeSet sama']"
      ]
     },
     "execution_count": 142,
     "metadata": {},
     "output_type": "execute_result"
    }
   ],
   "source": [
    "sum_name_euw[:20]"
   ]
  },
  {
   "cell_type": "code",
   "execution_count": 119,
   "id": "1ae9c3ab",
   "metadata": {},
   "outputs": [],
   "source": [
    "# We create a list of the 10 last games of each the 20 challengers so we get list of 200 matchs ID\n",
    "list_game=[]\n",
    "for name in sum_name_euw[:20]:\n",
    "    \n",
    "    l=get_matches_list(my_region,name,10)\n",
    "    list_game+=l\n",
    "    "
   ]
  },
  {
   "cell_type": "code",
   "execution_count": 143,
   "id": "f2c1f7f1",
   "metadata": {},
   "outputs": [
    {
     "name": "stdout",
     "output_type": "stream",
     "text": [
      "200\n",
      "179\n"
     ]
    }
   ],
   "source": [
    "#There is a possibility in all the games that some players were in the same game\n",
    "#meaning we can get duplicates in the list, we loop inside the list_game to get rid of those games\n",
    "#Results show that 21 elements of the list were deleted\n",
    "print(len(list_game))\n",
    "unique_games=[]\n",
    "for l in list_game:\n",
    "        if l not in unique_games:\n",
    "            unique_games.append(l)\n",
    "\n",
    "print(len(unique_games))"
   ]
  },
  {
   "cell_type": "code",
   "execution_count": 134,
   "id": "e9ad3f70",
   "metadata": {},
   "outputs": [],
   "source": [
    "#We have 179 unique games, let's see the champions played\n",
    "champions=all_champ_played(unique_games)"
   ]
  },
  {
   "cell_type": "code",
   "execution_count": 149,
   "id": "ac8f774e",
   "metadata": {},
   "outputs": [
    {
     "name": "stdout",
     "output_type": "stream",
     "text": [
      "In these 179 games,  159  out of 163 different champions were played\n"
     ]
    },
    {
     "data": {
      "text/plain": [
       "[('Jinx', 61),\n",
       " ('Thresh', 48),\n",
       " ('Zeri', 42),\n",
       " ('Gragas', 41),\n",
       " ('LeeSin', 39),\n",
       " ('Rakan', 38),\n",
       " ('Xayah', 32),\n",
       " ('Senna', 29),\n",
       " ('Aphelios', 27),\n",
       " ('Jayce', 26),\n",
       " ('Sylas', 26),\n",
       " ('Viego', 25),\n",
       " ('Riven', 24),\n",
       " ('Nautilus', 24),\n",
       " ('Lulu', 24),\n",
       " ('Vi', 22),\n",
       " ('Tristana', 22),\n",
       " ('Kaisa', 22),\n",
       " ('Annie', 22),\n",
       " ('Graves', 21),\n",
       " ('Irelia', 21),\n",
       " ('JarvanIV', 21),\n",
       " ('Olaf', 21),\n",
       " ('Pyke', 20),\n",
       " ('Malphite', 20)]"
      ]
     },
     "execution_count": 149,
     "metadata": {},
     "output_type": "execute_result"
    }
   ],
   "source": [
    "print( \"In these 179 games, \", len(counter), \" out of 163 different champions were played\" )\n",
    "counter=Counter(champions)\n",
    "sorted_list=counter.most_common(25)\n",
    "sorted_list"
   ]
  },
  {
   "cell_type": "code",
   "execution_count": 155,
   "id": "283bca13",
   "metadata": {},
   "outputs": [
    {
     "data": {
      "text/html": [
       "<div>\n",
       "<style scoped>\n",
       "    .dataframe tbody tr th:only-of-type {\n",
       "        vertical-align: middle;\n",
       "    }\n",
       "\n",
       "    .dataframe tbody tr th {\n",
       "        vertical-align: top;\n",
       "    }\n",
       "\n",
       "    .dataframe thead th {\n",
       "        text-align: right;\n",
       "    }\n",
       "</style>\n",
       "<table border=\"1\" class=\"dataframe\">\n",
       "  <thead>\n",
       "    <tr style=\"text-align: right;\">\n",
       "      <th></th>\n",
       "      <th>Champion Name</th>\n",
       "      <th>Game appearance</th>\n",
       "    </tr>\n",
       "  </thead>\n",
       "  <tbody>\n",
       "    <tr>\n",
       "      <th>0</th>\n",
       "      <td>Jinx</td>\n",
       "      <td>61</td>\n",
       "    </tr>\n",
       "    <tr>\n",
       "      <th>1</th>\n",
       "      <td>Thresh</td>\n",
       "      <td>48</td>\n",
       "    </tr>\n",
       "    <tr>\n",
       "      <th>2</th>\n",
       "      <td>Zeri</td>\n",
       "      <td>42</td>\n",
       "    </tr>\n",
       "    <tr>\n",
       "      <th>3</th>\n",
       "      <td>Gragas</td>\n",
       "      <td>41</td>\n",
       "    </tr>\n",
       "    <tr>\n",
       "      <th>4</th>\n",
       "      <td>LeeSin</td>\n",
       "      <td>39</td>\n",
       "    </tr>\n",
       "    <tr>\n",
       "      <th>5</th>\n",
       "      <td>Rakan</td>\n",
       "      <td>38</td>\n",
       "    </tr>\n",
       "    <tr>\n",
       "      <th>6</th>\n",
       "      <td>Xayah</td>\n",
       "      <td>32</td>\n",
       "    </tr>\n",
       "    <tr>\n",
       "      <th>7</th>\n",
       "      <td>Senna</td>\n",
       "      <td>29</td>\n",
       "    </tr>\n",
       "    <tr>\n",
       "      <th>8</th>\n",
       "      <td>Aphelios</td>\n",
       "      <td>27</td>\n",
       "    </tr>\n",
       "    <tr>\n",
       "      <th>9</th>\n",
       "      <td>Jayce</td>\n",
       "      <td>26</td>\n",
       "    </tr>\n",
       "    <tr>\n",
       "      <th>10</th>\n",
       "      <td>Sylas</td>\n",
       "      <td>26</td>\n",
       "    </tr>\n",
       "    <tr>\n",
       "      <th>11</th>\n",
       "      <td>Viego</td>\n",
       "      <td>25</td>\n",
       "    </tr>\n",
       "    <tr>\n",
       "      <th>12</th>\n",
       "      <td>Riven</td>\n",
       "      <td>24</td>\n",
       "    </tr>\n",
       "    <tr>\n",
       "      <th>13</th>\n",
       "      <td>Nautilus</td>\n",
       "      <td>24</td>\n",
       "    </tr>\n",
       "    <tr>\n",
       "      <th>14</th>\n",
       "      <td>Lulu</td>\n",
       "      <td>24</td>\n",
       "    </tr>\n",
       "    <tr>\n",
       "      <th>15</th>\n",
       "      <td>Vi</td>\n",
       "      <td>22</td>\n",
       "    </tr>\n",
       "    <tr>\n",
       "      <th>16</th>\n",
       "      <td>Tristana</td>\n",
       "      <td>22</td>\n",
       "    </tr>\n",
       "    <tr>\n",
       "      <th>17</th>\n",
       "      <td>Kaisa</td>\n",
       "      <td>22</td>\n",
       "    </tr>\n",
       "    <tr>\n",
       "      <th>18</th>\n",
       "      <td>Annie</td>\n",
       "      <td>22</td>\n",
       "    </tr>\n",
       "    <tr>\n",
       "      <th>19</th>\n",
       "      <td>Graves</td>\n",
       "      <td>21</td>\n",
       "    </tr>\n",
       "    <tr>\n",
       "      <th>20</th>\n",
       "      <td>Irelia</td>\n",
       "      <td>21</td>\n",
       "    </tr>\n",
       "    <tr>\n",
       "      <th>21</th>\n",
       "      <td>JarvanIV</td>\n",
       "      <td>21</td>\n",
       "    </tr>\n",
       "    <tr>\n",
       "      <th>22</th>\n",
       "      <td>Olaf</td>\n",
       "      <td>21</td>\n",
       "    </tr>\n",
       "    <tr>\n",
       "      <th>23</th>\n",
       "      <td>Pyke</td>\n",
       "      <td>20</td>\n",
       "    </tr>\n",
       "    <tr>\n",
       "      <th>24</th>\n",
       "      <td>Malphite</td>\n",
       "      <td>20</td>\n",
       "    </tr>\n",
       "  </tbody>\n",
       "</table>\n",
       "</div>"
      ],
      "text/plain": [
       "   Champion Name  Game appearance\n",
       "0           Jinx               61\n",
       "1         Thresh               48\n",
       "2           Zeri               42\n",
       "3         Gragas               41\n",
       "4         LeeSin               39\n",
       "5          Rakan               38\n",
       "6          Xayah               32\n",
       "7          Senna               29\n",
       "8       Aphelios               27\n",
       "9          Jayce               26\n",
       "10         Sylas               26\n",
       "11         Viego               25\n",
       "12         Riven               24\n",
       "13      Nautilus               24\n",
       "14          Lulu               24\n",
       "15            Vi               22\n",
       "16      Tristana               22\n",
       "17         Kaisa               22\n",
       "18         Annie               22\n",
       "19        Graves               21\n",
       "20        Irelia               21\n",
       "21      JarvanIV               21\n",
       "22          Olaf               21\n",
       "23          Pyke               20\n",
       "24      Malphite               20"
      ]
     },
     "execution_count": 155,
     "metadata": {},
     "output_type": "execute_result"
    }
   ],
   "source": [
    "data=pd.DataFrame(sorted_list, columns=['Champion Name', 'Game appearance'])\n",
    "data "
   ]
  }
 ],
 "metadata": {
  "kernelspec": {
   "display_name": "Python 3 (ipykernel)",
   "language": "python",
   "name": "python3"
  },
  "language_info": {
   "codemirror_mode": {
    "name": "ipython",
    "version": 3
   },
   "file_extension": ".py",
   "mimetype": "text/x-python",
   "name": "python",
   "nbconvert_exporter": "python",
   "pygments_lexer": "ipython3",
   "version": "3.9.13"
  }
 },
 "nbformat": 4,
 "nbformat_minor": 5
}

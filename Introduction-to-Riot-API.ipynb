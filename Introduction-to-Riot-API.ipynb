{
 "cells": [
  {
   "cell_type": "code",
   "execution_count": 7,
   "id": "60ad4ad1",
   "metadata": {},
   "outputs": [],
   "source": [
    "from riotwatcher import LolWatcher, ApiError\n",
    "import pandas as pd\n",
    "import time\n",
    "import datetime"
   ]
  },
  {
   "cell_type": "markdown",
   "id": "feed9a50",
   "metadata": {},
   "source": [
    "#### Conversion unix timestamp"
   ]
  },
  {
   "cell_type": "code",
   "execution_count": 13,
   "id": "229080de",
   "metadata": {},
   "outputs": [],
   "source": [
    "def get_date(unix_time):\n",
    "    date_time = datetime.datetime.fromtimestamp(unix_time/100)\n",
    "    date=date_time.strftime('%Y-%m-%d %H:%M:%S')\n",
    "    return date"
   ]
  },
  {
   "cell_type": "code",
   "execution_count": 14,
   "id": "cd193451",
   "metadata": {},
   "outputs": [
    {
     "data": {
      "text/plain": [
       "'2502-07-17 18:28:50'"
      ]
     },
     "execution_count": 14,
     "metadata": {},
     "output_type": "execute_result"
    }
   ],
   "source": [
    "unix_time = 1680537773024\n",
    "get_date(unix_time)"
   ]
  },
  {
   "cell_type": "markdown",
   "id": "11e187a8",
   "metadata": {},
   "source": [
    "### Using Riot API key"
   ]
  },
  {
   "cell_type": "code",
   "execution_count": 15,
   "id": "ae627858",
   "metadata": {},
   "outputs": [],
   "source": [
    "#Complete with your own API key \n",
    "api_key = 'RGAPI-xxxx'\n",
    "watcher = LolWatcher(api_key)\n",
    "my_region = 'euw1'\n",
    "#[\"na1\", \"euw1\", \"eun1\", \"kr\", \"br1\", \"jp1\", \"ru\", \"oc1\", \"tr1\", \"la1\", \"la2\"]\n",
    "my_summoner='MamaYumYum'"
   ]
  },
  {
   "cell_type": "markdown",
   "id": "21b34623",
   "metadata": {},
   "source": [
    "#### Profile information"
   ]
  },
  {
   "cell_type": "code",
   "execution_count": 17,
   "id": "2bdfb420",
   "metadata": {},
   "outputs": [],
   "source": [
    "my_profile = watcher.summoner.by_name(my_region,my_summoner)"
   ]
  },
  {
   "cell_type": "code",
   "execution_count": 18,
   "id": "0011e03c",
   "metadata": {},
   "outputs": [
    {
     "name": "stdout",
     "output_type": "stream",
     "text": [
      "{'id': 'tfQ1hZABPAxKvX6rkgpqWE7UszeqS8sq7lieyKopKUMu3Z0', 'accountId': 'RiVjJkjVb_T-e_hgpmXYL6oLTO6G8uGjre8oOQM7-sdaSQ', 'puuid': 'La6KBkKxEZGOS-jBVIqKsS8PzTvxz7BP_k_AIeK-EkbUrCgHgGy3UW1XGX4h6qN4S7mnIqwIzCKfYw', 'name': 'MamaYumYum', 'profileIconId': 5622, 'revisionDate': 1680644142223, 'summonerLevel': 524}\n"
     ]
    }
   ],
   "source": [
    "print(my_profile)"
   ]
  },
  {
   "cell_type": "code",
   "execution_count": 19,
   "id": "45b09581",
   "metadata": {},
   "outputs": [
    {
     "name": "stdout",
     "output_type": "stream",
     "text": [
      "[{'leagueId': '50a6cc74-60c4-4896-aa2a-54c73299f7c7', 'queueType': 'RANKED_SOLO_5x5', 'tier': 'PLATINUM', 'rank': 'IV', 'summonerId': 'tfQ1hZABPAxKvX6rkgpqWE7UszeqS8sq7lieyKopKUMu3Z0', 'summonerName': 'MamaYumYum', 'leaguePoints': 47, 'wins': 102, 'losses': 99, 'veteran': False, 'inactive': False, 'freshBlood': False, 'hotStreak': False}]\n"
     ]
    }
   ],
   "source": [
    "my_ranked_stats = watcher.league.by_summoner(my_region,my_profile['id'])\n",
    "print(my_ranked_stats)"
   ]
  },
  {
   "cell_type": "markdown",
   "id": "d751c3a1",
   "metadata": {},
   "source": [
    "### Match information"
   ]
  },
  {
   "cell_type": "code",
   "execution_count": 26,
   "id": "2c82ece1",
   "metadata": {},
   "outputs": [],
   "source": [
    "def get_matches_list(my_region,my_summoner,nbMatches):\n",
    "    profile=watcher.summoner.by_name(my_region,my_summoner)\n",
    "    matches_list=watcher.match.matchlist_by_puuid(my_region,profile['puuid'],count=nbMatches)\n",
    "    return matches_list\n",
    "    \n",
    "    "
   ]
  },
  {
   "cell_type": "code",
   "execution_count": 31,
   "id": "f9b2716f",
   "metadata": {},
   "outputs": [],
   "source": [
    "matches_list=get_matches_list(my_region,my_summoner,20)"
   ]
  },
  {
   "cell_type": "code",
   "execution_count": 55,
   "id": "5c107593",
   "metadata": {},
   "outputs": [
    {
     "data": {
      "text/plain": [
       "['EUW1_6346829954',\n",
       " 'EUW1_6346406135',\n",
       " 'EUW1_6346377480',\n",
       " 'EUW1_6345492861',\n",
       " 'EUW1_6344920335',\n",
       " 'EUW1_6344828393',\n",
       " 'EUW1_6344780310',\n",
       " 'EUW1_6340799573',\n",
       " 'EUW1_6340749762',\n",
       " 'EUW1_6335975261',\n",
       " 'EUW1_6335029842',\n",
       " 'EUW1_6334965764',\n",
       " 'EUW1_6333590234',\n",
       " 'EUW1_6333492894',\n",
       " 'EUW1_6328709921',\n",
       " 'EUW1_6328662160',\n",
       " 'EUW1_6328212297',\n",
       " 'EUW1_6323942872',\n",
       " 'EUW1_6322470530',\n",
       " 'EUW1_6322308414']"
      ]
     },
     "execution_count": 55,
     "metadata": {},
     "output_type": "execute_result"
    }
   ],
   "source": [
    "matches_list"
   ]
  },
  {
   "cell_type": "code",
   "execution_count": 33,
   "id": "326644bc",
   "metadata": {},
   "outputs": [],
   "source": [
    "#The match.by_id function returns a JSON containing all the information about a game\n",
    "def get_match(my_region,match_id):\n",
    "    match=watcher.match.by_id(my_region,match_id)\n",
    "    return match"
   ]
  },
  {
   "cell_type": "code",
   "execution_count": 36,
   "id": "0374db25",
   "metadata": {},
   "outputs": [],
   "source": [
    "#We work with the first match of the list\n",
    "match=get_match(my_region,matches_list[0])\n"
   ]
  },
  {
   "cell_type": "markdown",
   "id": "e7e27dd6",
   "metadata": {},
   "source": [
    "#### Getting list of summoners's puuid in the match using metadata"
   ]
  },
  {
   "cell_type": "code",
   "execution_count": 37,
   "id": "3b347bbb",
   "metadata": {},
   "outputs": [
    {
     "data": {
      "text/plain": [
       "['La6KBkKxEZGOS-jBVIqKsS8PzTvxz7BP_k_AIeK-EkbUrCgHgGy3UW1XGX4h6qN4S7mnIqwIzCKfYw',\n",
       " 'XHO77Tu6kS8doG9PTTKpwE2qabXAl9U7zVz5WeOQ-vSDboIb1TueOw2FbbhKOMhnZIdxphfqm5vZaA',\n",
       " 'Bk8A3yDI4mUKGgXvAUz8gnFXTbFHjezYlSap4E6i_eYCI96b0h5XmZdaM6L-8s3l76MizQ60SZIy4A',\n",
       " 'zTYbdJMJsIhJcOZ-7zm2zhGbaNvXhs9cNpN94B34i8o6xJOaeFiW4mCFWghCqBXWVGh1gfRGPRbJQA',\n",
       " 'X5RsLcN-33GkO4GyMaAUMXu1xz5TZCv-XoO4KAnMlt5anhBl3pdPF2SDulKg_0ZdjvnKDnXe2CfeqA',\n",
       " 'EpT4wWWOF1vhn_mfpa9prf_Hv7GUbKRBPvu0KyhgxwM-6MDi4m3CX0mfNKb7NbeqtolPEXGFgq0XOA',\n",
       " 'Ml0258N-iQC_-Hjz3nsrTBYSfuDzGuBgYxf6cd37ezqQpwuhcnfU4e57fnZ1i12K_j1c6yPE9owlnw',\n",
       " '8Kc00AFQ8-DSrNQCrkVui2gYGfJEbVYWPt1LI6gMl1JfYmIuRefN3jn4UxQ6Mmzx6gjR3JFhdqVgFg',\n",
       " '0cDp43ui2J4SsP51C-8dOUMTjsXNQ_DeW1yyWw9v6bqgPAJU_5Wg7TgPA9PBnnH70yYKXcemObnUng',\n",
       " 'z54HaauybF0p4ZOeETOY_DQEien2GjKL31k491Ph3z4YccWIYF6-oLURzMfhUxEdSRRk-xKopsu3jg']"
      ]
     },
     "execution_count": 37,
     "metadata": {},
     "output_type": "execute_result"
    }
   ],
   "source": [
    "match['metadata']['participants']"
   ]
  },
  {
   "cell_type": "code",
   "execution_count": 39,
   "id": "21c7a936",
   "metadata": {},
   "outputs": [
    {
     "data": {
      "text/plain": [
       "{'id': '2yWfVNJBjfnX7cP44HMRIbk-y4ERMgyZR8OaH4bitgs5BhM',\n",
       " 'accountId': 'JhYLPxAvbDjC22cJMKdlGWI1rOHBtuzfKjAAyGvL1dBzLg',\n",
       " 'puuid': 'Bk8A3yDI4mUKGgXvAUz8gnFXTbFHjezYlSap4E6i_eYCI96b0h5XmZdaM6L-8s3l76MizQ60SZIy4A',\n",
       " 'name': 'H4riis',\n",
       " 'profileIconId': 1296,\n",
       " 'revisionDate': 1680644142223,\n",
       " 'summonerLevel': 165}"
      ]
     },
     "execution_count": 39,
     "metadata": {},
     "output_type": "execute_result"
    }
   ],
   "source": [
    "summoner=watcher.summoner.by_puuid(my_region,match['metadata']['participants'][2])\n",
    "summoner"
   ]
  },
  {
   "cell_type": "code",
   "execution_count": 40,
   "id": "c2b3b0e0",
   "metadata": {},
   "outputs": [],
   "source": [
    "def get_list_participants(my_region,match_id):\n",
    "    match=get_match(my_region,match_id)\n",
    "    list_participants=[]\n",
    "    for element in match['metadata']['participants']:\n",
    "        profile=watcher.summoner.by_puuid(my_region,element)\n",
    "        list_participants.append(profile['name'])\n",
    "    return list_participants"
   ]
  },
  {
   "cell_type": "code",
   "execution_count": 42,
   "id": "a043ffca",
   "metadata": {},
   "outputs": [
    {
     "data": {
      "text/plain": [
       "['MamaYumYum',\n",
       " 'DreamAboutMe',\n",
       " 'H4riis',\n",
       " 'Mythic V2',\n",
       " 'lce Wallow Come',\n",
       " 'Solarys IV',\n",
       " 'MMT Darkyyy',\n",
       " 'ScottTheUnit',\n",
       " 'Baldulf',\n",
       " 'Guv']"
      ]
     },
     "execution_count": 42,
     "metadata": {},
     "output_type": "execute_result"
    }
   ],
   "source": [
    "list_participants=get_list_participants(my_region,matches_list[0])\n",
    "list_participants"
   ]
  },
  {
   "cell_type": "markdown",
   "id": "8fcf3861",
   "metadata": {},
   "source": [
    "#### Using info"
   ]
  },
  {
   "cell_type": "code",
   "execution_count": 43,
   "id": "56788e70",
   "metadata": {},
   "outputs": [
    {
     "data": {
      "text/plain": [
       "'MamaYumYum'"
      ]
     },
     "execution_count": 43,
     "metadata": {},
     "output_type": "execute_result"
    }
   ],
   "source": [
    "match['info']['participants'][0]['summonerName']"
   ]
  },
  {
   "cell_type": "code",
   "execution_count": 44,
   "id": "bccaf648",
   "metadata": {},
   "outputs": [
    {
     "data": {
      "text/plain": [
       "{'id': 'tfQ1hZABPAxKvX6rkgpqWE7UszeqS8sq7lieyKopKUMu3Z0',\n",
       " 'accountId': 'RiVjJkjVb_T-e_hgpmXYL6oLTO6G8uGjre8oOQM7-sdaSQ',\n",
       " 'puuid': 'La6KBkKxEZGOS-jBVIqKsS8PzTvxz7BP_k_AIeK-EkbUrCgHgGy3UW1XGX4h6qN4S7mnIqwIzCKfYw',\n",
       " 'name': 'MamaYumYum',\n",
       " 'profileIconId': 5622,\n",
       " 'revisionDate': 1680644142223,\n",
       " 'summonerLevel': 524}"
      ]
     },
     "execution_count": 44,
     "metadata": {},
     "output_type": "execute_result"
    }
   ],
   "source": [
    "summoner_name=watcher.summoner.by_puuid(my_region,match['info']['participants'][0]['puuid'])\n",
    "summoner_name"
   ]
  },
  {
   "cell_type": "markdown",
   "id": "f7923c5b",
   "metadata": {},
   "source": [
    "### Game Details"
   ]
  },
  {
   "cell_type": "code",
   "execution_count": 59,
   "id": "b5278f2c",
   "metadata": {},
   "outputs": [],
   "source": [
    "def game_resume(my_region,match_id):\n",
    "    game_info_df=[]\n",
    "    match=get_match(my_region,match_id)\n",
    "    game_info=match['info']\n",
    "    \n",
    "    for row in game_info['participants']:\n",
    "        participants_row={}\n",
    "        participants_row['summonerName']=row['summonerName']\n",
    "        if row['individualPosition']==\"Invalid\":\n",
    "            participants_row['lane']='ARAM'\n",
    "        else:  \n",
    "            participants_row['lane']=row['individualPosition']\n",
    "        participants_row['champion']=row['championName']\n",
    "        participants_row['kills']=row['kills']\n",
    "        participants_row['assists']=row['assists']\n",
    "        participants_row['deaths']=row['deaths']\n",
    "        participants_row['kda']=round((row['kills']+row['assists'])/row['deaths']\n",
    "                                       ,2)\n",
    "        participants_row['total damages']=row['totalDamageDealtToChampions']\n",
    "        participants_row['win']=row['win']\n",
    "        game_info_df.append(participants_row)\n",
    "    df=pd.DataFrame(game_info_df)\n",
    "    return df\n",
    "    \n"
   ]
  },
  {
   "cell_type": "code",
   "execution_count": 60,
   "id": "081147e5",
   "metadata": {},
   "outputs": [
    {
     "data": {
      "text/html": [
       "<div>\n",
       "<style scoped>\n",
       "    .dataframe tbody tr th:only-of-type {\n",
       "        vertical-align: middle;\n",
       "    }\n",
       "\n",
       "    .dataframe tbody tr th {\n",
       "        vertical-align: top;\n",
       "    }\n",
       "\n",
       "    .dataframe thead th {\n",
       "        text-align: right;\n",
       "    }\n",
       "</style>\n",
       "<table border=\"1\" class=\"dataframe\">\n",
       "  <thead>\n",
       "    <tr style=\"text-align: right;\">\n",
       "      <th></th>\n",
       "      <th>summonerName</th>\n",
       "      <th>lane</th>\n",
       "      <th>champion</th>\n",
       "      <th>kills</th>\n",
       "      <th>assists</th>\n",
       "      <th>deaths</th>\n",
       "      <th>kda</th>\n",
       "      <th>total damages</th>\n",
       "      <th>win</th>\n",
       "    </tr>\n",
       "  </thead>\n",
       "  <tbody>\n",
       "    <tr>\n",
       "      <th>0</th>\n",
       "      <td>Atomare</td>\n",
       "      <td>TOP</td>\n",
       "      <td>Malphite</td>\n",
       "      <td>2</td>\n",
       "      <td>6</td>\n",
       "      <td>2</td>\n",
       "      <td>4.00</td>\n",
       "      <td>15220</td>\n",
       "      <td>True</td>\n",
       "    </tr>\n",
       "    <tr>\n",
       "      <th>1</th>\n",
       "      <td>Jaegha</td>\n",
       "      <td>JUNGLE</td>\n",
       "      <td>Amumu</td>\n",
       "      <td>3</td>\n",
       "      <td>7</td>\n",
       "      <td>3</td>\n",
       "      <td>3.33</td>\n",
       "      <td>11208</td>\n",
       "      <td>True</td>\n",
       "    </tr>\n",
       "    <tr>\n",
       "      <th>2</th>\n",
       "      <td>MamaYumYum</td>\n",
       "      <td>MIDDLE</td>\n",
       "      <td>Zed</td>\n",
       "      <td>7</td>\n",
       "      <td>5</td>\n",
       "      <td>4</td>\n",
       "      <td>3.00</td>\n",
       "      <td>13462</td>\n",
       "      <td>True</td>\n",
       "    </tr>\n",
       "    <tr>\n",
       "      <th>3</th>\n",
       "      <td>BMO0333</td>\n",
       "      <td>BOTTOM</td>\n",
       "      <td>Twitch</td>\n",
       "      <td>21</td>\n",
       "      <td>6</td>\n",
       "      <td>3</td>\n",
       "      <td>9.00</td>\n",
       "      <td>33212</td>\n",
       "      <td>True</td>\n",
       "    </tr>\n",
       "    <tr>\n",
       "      <th>4</th>\n",
       "      <td>ShadowPlays66</td>\n",
       "      <td>UTILITY</td>\n",
       "      <td>Seraphine</td>\n",
       "      <td>4</td>\n",
       "      <td>21</td>\n",
       "      <td>4</td>\n",
       "      <td>6.25</td>\n",
       "      <td>16002</td>\n",
       "      <td>True</td>\n",
       "    </tr>\n",
       "    <tr>\n",
       "      <th>5</th>\n",
       "      <td>Gyref</td>\n",
       "      <td>TOP</td>\n",
       "      <td>Chogath</td>\n",
       "      <td>3</td>\n",
       "      <td>2</td>\n",
       "      <td>4</td>\n",
       "      <td>1.25</td>\n",
       "      <td>13835</td>\n",
       "      <td>False</td>\n",
       "    </tr>\n",
       "    <tr>\n",
       "      <th>6</th>\n",
       "      <td>Corndawgfan</td>\n",
       "      <td>JUNGLE</td>\n",
       "      <td>MonkeyKing</td>\n",
       "      <td>1</td>\n",
       "      <td>5</td>\n",
       "      <td>8</td>\n",
       "      <td>0.75</td>\n",
       "      <td>9932</td>\n",
       "      <td>False</td>\n",
       "    </tr>\n",
       "    <tr>\n",
       "      <th>7</th>\n",
       "      <td>Μars</td>\n",
       "      <td>MIDDLE</td>\n",
       "      <td>Annie</td>\n",
       "      <td>6</td>\n",
       "      <td>5</td>\n",
       "      <td>6</td>\n",
       "      <td>1.83</td>\n",
       "      <td>15296</td>\n",
       "      <td>False</td>\n",
       "    </tr>\n",
       "    <tr>\n",
       "      <th>8</th>\n",
       "      <td>reeBro</td>\n",
       "      <td>BOTTOM</td>\n",
       "      <td>Zeri</td>\n",
       "      <td>2</td>\n",
       "      <td>3</td>\n",
       "      <td>7</td>\n",
       "      <td>0.71</td>\n",
       "      <td>4837</td>\n",
       "      <td>False</td>\n",
       "    </tr>\n",
       "    <tr>\n",
       "      <th>9</th>\n",
       "      <td>srikig</td>\n",
       "      <td>UTILITY</td>\n",
       "      <td>Senna</td>\n",
       "      <td>4</td>\n",
       "      <td>8</td>\n",
       "      <td>12</td>\n",
       "      <td>1.00</td>\n",
       "      <td>7311</td>\n",
       "      <td>False</td>\n",
       "    </tr>\n",
       "  </tbody>\n",
       "</table>\n",
       "</div>"
      ],
      "text/plain": [
       "    summonerName     lane    champion  kills  assists  deaths   kda  \\\n",
       "0        Atomare      TOP    Malphite      2        6       2  4.00   \n",
       "1         Jaegha   JUNGLE       Amumu      3        7       3  3.33   \n",
       "2     MamaYumYum   MIDDLE         Zed      7        5       4  3.00   \n",
       "3        BMO0333   BOTTOM      Twitch     21        6       3  9.00   \n",
       "4  ShadowPlays66  UTILITY   Seraphine      4       21       4  6.25   \n",
       "5          Gyref      TOP     Chogath      3        2       4  1.25   \n",
       "6    Corndawgfan   JUNGLE  MonkeyKing      1        5       8  0.75   \n",
       "7           Μars   MIDDLE       Annie      6        5       6  1.83   \n",
       "8         reeBro   BOTTOM        Zeri      2        3       7  0.71   \n",
       "9         srikig  UTILITY       Senna      4        8      12  1.00   \n",
       "\n",
       "   total damages    win  \n",
       "0          15220   True  \n",
       "1          11208   True  \n",
       "2          13462   True  \n",
       "3          33212   True  \n",
       "4          16002   True  \n",
       "5          13835  False  \n",
       "6           9932  False  \n",
       "7          15296  False  \n",
       "8           4837  False  \n",
       "9           7311  False  "
      ]
     },
     "execution_count": 60,
     "metadata": {},
     "output_type": "execute_result"
    }
   ],
   "source": [
    "game_resume=game_resume(my_region,matches_list[5])\n",
    "game_resume"
   ]
  },
  {
   "cell_type": "markdown",
   "id": "f622c83b",
   "metadata": {},
   "source": [
    "### Champions details"
   ]
  },
  {
   "cell_type": "code",
   "execution_count": 61,
   "id": "23373b67",
   "metadata": {},
   "outputs": [],
   "source": [
    "#Building a list with the last played champs\n",
    "last_champ_played=[]\n",
    "for match in my_matches:\n",
    "    match_played=watcher.match.by_id(my_region,match)\n",
    "    for participants in match_played['info']['participants']:\n",
    "        if participants['summonerName']==\"MamaYumYum\":\n",
    "            last_champ_played.append(participants['championName'])\n",
    "            break\n",
    "        "
   ]
  },
  {
   "cell_type": "code",
   "execution_count": 62,
   "id": "6fd4fed3",
   "metadata": {},
   "outputs": [
    {
     "data": {
      "text/plain": [
       "['Singed',\n",
       " 'Kassadin',\n",
       " 'Cassiopeia',\n",
       " 'Vi',\n",
       " 'AurelionSol',\n",
       " 'Zed',\n",
       " 'Yone',\n",
       " 'Chogath',\n",
       " 'Zed',\n",
       " 'Gragas',\n",
       " 'Neeko',\n",
       " 'Sylas',\n",
       " 'Yasuo',\n",
       " 'Jayce',\n",
       " 'Shyvana',\n",
       " 'Fiora',\n",
       " 'Taric',\n",
       " 'Gragas',\n",
       " 'Twitch',\n",
       " 'Irelia']"
      ]
     },
     "execution_count": 62,
     "metadata": {},
     "output_type": "execute_result"
    }
   ],
   "source": [
    "last_champ_played"
   ]
  },
  {
   "cell_type": "markdown",
   "id": "a5407b69",
   "metadata": {},
   "source": [
    "### Filtering the games\n",
    "We only want ranked or ranked flex games. We get rid of the other games with the attribute 'queueId'.  \n",
    "400 : Normal game  \n",
    "420 : Ranked game  \n",
    "440 : Ranked flex  \n",
    "400 : ARAM\n"
   ]
  },
  {
   "cell_type": "code",
   "execution_count": 63,
   "id": "36b46b77",
   "metadata": {},
   "outputs": [
    {
     "data": {
      "text/plain": [
       "['EUW1_6346829954',\n",
       " 'EUW1_6346406135',\n",
       " 'EUW1_6346377480',\n",
       " 'EUW1_6345492861',\n",
       " 'EUW1_6344920335',\n",
       " 'EUW1_6344828393',\n",
       " 'EUW1_6344780310',\n",
       " 'EUW1_6340799573',\n",
       " 'EUW1_6340749762',\n",
       " 'EUW1_6335975261',\n",
       " 'EUW1_6335029842',\n",
       " 'EUW1_6334965764',\n",
       " 'EUW1_6333590234',\n",
       " 'EUW1_6333492894',\n",
       " 'EUW1_6328709921',\n",
       " 'EUW1_6328662160',\n",
       " 'EUW1_6328212297',\n",
       " 'EUW1_6323942872',\n",
       " 'EUW1_6322470530',\n",
       " 'EUW1_6322308414']"
      ]
     },
     "execution_count": 63,
     "metadata": {},
     "output_type": "execute_result"
    }
   ],
   "source": [
    "my_matches"
   ]
  },
  {
   "cell_type": "code",
   "execution_count": 64,
   "id": "acfdcd2f",
   "metadata": {},
   "outputs": [],
   "source": [
    "ranked_list=[]\n",
    "for games in my_matches:\n",
    "    match_played=watcher.match.by_id(my_region,games)\n",
    "    if match_played['info']['queueId']== 420 or match_played['info']['queueId']== 440  :\n",
    "        ranked_list.append(match_played['metadata']['matchId'])\n",
    "        \n",
    "            \n",
    "    "
   ]
  },
  {
   "cell_type": "code",
   "execution_count": 65,
   "id": "ba57cdbf",
   "metadata": {},
   "outputs": [
    {
     "data": {
      "text/plain": [
       "['EUW1_6344828393', 'EUW1_6344780310', 'EUW1_6333492894']"
      ]
     },
     "execution_count": 65,
     "metadata": {},
     "output_type": "execute_result"
    }
   ],
   "source": [
    "ranked_list"
   ]
  },
  {
   "cell_type": "code",
   "execution_count": 66,
   "id": "4dbcbf41",
   "metadata": {},
   "outputs": [],
   "source": [
    "champ_ranked=[]\n",
    "for match in ranked_list:\n",
    "    match_played=watcher.match.by_id(my_region,match)\n",
    "    for participants in match_played['info']['participants']:\n",
    "        if participants['summonerName']==\"MamaYumYum\":\n",
    "            champ_ranked.append(participants['championName'])\n",
    "            break"
   ]
  },
  {
   "cell_type": "code",
   "execution_count": 67,
   "id": "fb91127e",
   "metadata": {},
   "outputs": [
    {
     "data": {
      "text/plain": [
       "['Zed', 'Yone', 'Jayce']"
      ]
     },
     "execution_count": 67,
     "metadata": {},
     "output_type": "execute_result"
    }
   ],
   "source": [
    "champ_ranked"
   ]
  }
 ],
 "metadata": {
  "kernelspec": {
   "display_name": "Python 3 (ipykernel)",
   "language": "python",
   "name": "python3"
  },
  "language_info": {
   "codemirror_mode": {
    "name": "ipython",
    "version": 3
   },
   "file_extension": ".py",
   "mimetype": "text/x-python",
   "name": "python",
   "nbconvert_exporter": "python",
   "pygments_lexer": "ipython3",
   "version": "3.9.13"
  }
 },
 "nbformat": 4,
 "nbformat_minor": 5
}

{
 "cells": [
  {
   "cell_type": "code",
   "execution_count": 44,
   "id": "60ad4ad1",
   "metadata": {},
   "outputs": [],
   "source": [
    "from riotwatcher import LolWatcher, ApiError\n",
    "import pandas as pd\n",
    "import time\n",
    "import datetime"
   ]
  },
  {
   "cell_type": "markdown",
   "id": "11e187a8",
   "metadata": {},
   "source": [
    "## Using Riot API key"
   ]
  },
  {
   "cell_type": "code",
   "execution_count": 2,
   "id": "ae627858",
   "metadata": {},
   "outputs": [],
   "source": [
    "#Complete with your own API key \n",
    "api_key = 'RGAPI-xxxx'\n",
    "watcher = LolWatcher(api_key)\n",
    "my_region = 'euw1'\n",
    "#[\"na1\", \"euw1\", \"eun1\", \"kr\", \"br1\", \"jp1\", \"ru\", \"oc1\", \"tr1\", \"la1\", \"la2\"]\n",
    "my_summoner='MamaYumYum'"
   ]
  },
  {
   "cell_type": "markdown",
   "id": "21b34623",
   "metadata": {},
   "source": [
    "#### Profile information"
   ]
  },
  {
   "cell_type": "code",
   "execution_count": 3,
   "id": "2bdfb420",
   "metadata": {},
   "outputs": [],
   "source": [
    "#Load a profile  \n",
    "my_profile = watcher.summoner.by_name(my_region,my_summoner)"
   ]
  },
  {
   "cell_type": "code",
   "execution_count": 4,
   "id": "0011e03c",
   "metadata": {},
   "outputs": [
    {
     "name": "stdout",
     "output_type": "stream",
     "text": [
      "{'id': 'tfQ1hZABPAxKvX6rkgpqWE7UszeqS8sq7lieyKopKUMu3Z0', 'accountId': 'RiVjJkjVb_T-e_hgpmXYL6oLTO6G8uGjre8oOQM7-sdaSQ', 'puuid': 'La6KBkKxEZGOS-jBVIqKsS8PzTvxz7BP_k_AIeK-EkbUrCgHgGy3UW1XGX4h6qN4S7mnIqwIzCKfYw', 'name': 'MamaYumYum', 'profileIconId': 5622, 'revisionDate': 1680644142223, 'summonerLevel': 524}\n"
     ]
    }
   ],
   "source": [
    "print(my_profile)"
   ]
  },
  {
   "cell_type": "code",
   "execution_count": 5,
   "id": "45b09581",
   "metadata": {},
   "outputs": [
    {
     "name": "stdout",
     "output_type": "stream",
     "text": [
      "[{'leagueId': '50a6cc74-60c4-4896-aa2a-54c73299f7c7', 'queueType': 'RANKED_SOLO_5x5', 'tier': 'PLATINUM', 'rank': 'IV', 'summonerId': 'tfQ1hZABPAxKvX6rkgpqWE7UszeqS8sq7lieyKopKUMu3Z0', 'summonerName': 'MamaYumYum', 'leaguePoints': 47, 'wins': 102, 'losses': 99, 'veteran': False, 'inactive': False, 'freshBlood': False, 'hotStreak': False}]\n"
     ]
    }
   ],
   "source": [
    "#Load ranked stats\n",
    "my_ranked_stats = watcher.league.by_summoner(my_region,my_profile['id'])\n",
    "print(my_ranked_stats)"
   ]
  },
  {
   "cell_type": "markdown",
   "id": "d751c3a1",
   "metadata": {},
   "source": [
    "## Match information using JSON"
   ]
  },
  {
   "cell_type": "code",
   "execution_count": 6,
   "id": "2c82ece1",
   "metadata": {},
   "outputs": [],
   "source": [
    "#This function returns a list of the last played game with the game's ids\n",
    "def get_matches_list(my_region,my_summoner,nbMatches):\n",
    "    profile=watcher.summoner.by_name(my_region,my_summoner)\n",
    "    matches_list=watcher.match.matchlist_by_puuid(my_region,profile['puuid'],count=nbMatches)\n",
    "   \n",
    "    return matches_list\n",
    "    \n",
    "#The function matchlist_by_puuid has a limit of 200 games"
   ]
  },
  {
   "cell_type": "code",
   "execution_count": 7,
   "id": "f9b2716f",
   "metadata": {},
   "outputs": [],
   "source": [
    "nbMatches=20\n",
    "matches_list=get_matches_list(my_region,my_summoner,nbMatches)"
   ]
  },
  {
   "cell_type": "code",
   "execution_count": 89,
   "id": "5c107593",
   "metadata": {},
   "outputs": [
    {
     "data": {
      "text/plain": [
       "['EUW1_6346829954',\n",
       " 'EUW1_6346406135',\n",
       " 'EUW1_6346377480',\n",
       " 'EUW1_6345492861',\n",
       " 'EUW1_6344920335',\n",
       " 'EUW1_6344828393',\n",
       " 'EUW1_6344780310',\n",
       " 'EUW1_6340799573',\n",
       " 'EUW1_6340749762',\n",
       " 'EUW1_6335975261',\n",
       " 'EUW1_6335029842',\n",
       " 'EUW1_6334965764',\n",
       " 'EUW1_6333590234',\n",
       " 'EUW1_6333492894',\n",
       " 'EUW1_6328709921',\n",
       " 'EUW1_6328662160',\n",
       " 'EUW1_6328212297',\n",
       " 'EUW1_6323942872',\n",
       " 'EUW1_6322470530',\n",
       " 'EUW1_6322308414']"
      ]
     },
     "execution_count": 89,
     "metadata": {},
     "output_type": "execute_result"
    }
   ],
   "source": [
    "matches_list"
   ]
  },
  {
   "cell_type": "code",
   "execution_count": 9,
   "id": "326644bc",
   "metadata": {},
   "outputs": [],
   "source": [
    "#The match.by_id function returns a JSON containing all the information about a game\n",
    "def get_match(my_region,match_id):\n",
    "    match=watcher.match.by_id(my_region,match_id)\n",
    "    return match"
   ]
  },
  {
   "cell_type": "code",
   "execution_count": 10,
   "id": "0374db25",
   "metadata": {},
   "outputs": [
    {
     "data": {
      "text/plain": [
       "'EUW1_6346829954'"
      ]
     },
     "execution_count": 10,
     "metadata": {},
     "output_type": "execute_result"
    }
   ],
   "source": [
    "#We work with the first match of the list\n",
    "match=get_match(my_region,matches_list[0])\n",
    "match['metadata']['matchId']"
   ]
  },
  {
   "cell_type": "markdown",
   "id": "e7e27dd6",
   "metadata": {},
   "source": [
    "#### Getting list of summoners's puuid in the match using metadata item"
   ]
  },
  {
   "cell_type": "code",
   "execution_count": 12,
   "id": "3b347bbb",
   "metadata": {},
   "outputs": [
    {
     "data": {
      "text/plain": [
       "['La6KBkKxEZGOS-jBVIqKsS8PzTvxz7BP_k_AIeK-EkbUrCgHgGy3UW1XGX4h6qN4S7mnIqwIzCKfYw',\n",
       " 'XHO77Tu6kS8doG9PTTKpwE2qabXAl9U7zVz5WeOQ-vSDboIb1TueOw2FbbhKOMhnZIdxphfqm5vZaA',\n",
       " 'Bk8A3yDI4mUKGgXvAUz8gnFXTbFHjezYlSap4E6i_eYCI96b0h5XmZdaM6L-8s3l76MizQ60SZIy4A',\n",
       " 'zTYbdJMJsIhJcOZ-7zm2zhGbaNvXhs9cNpN94B34i8o6xJOaeFiW4mCFWghCqBXWVGh1gfRGPRbJQA',\n",
       " 'X5RsLcN-33GkO4GyMaAUMXu1xz5TZCv-XoO4KAnMlt5anhBl3pdPF2SDulKg_0ZdjvnKDnXe2CfeqA',\n",
       " 'EpT4wWWOF1vhn_mfpa9prf_Hv7GUbKRBPvu0KyhgxwM-6MDi4m3CX0mfNKb7NbeqtolPEXGFgq0XOA',\n",
       " 'Ml0258N-iQC_-Hjz3nsrTBYSfuDzGuBgYxf6cd37ezqQpwuhcnfU4e57fnZ1i12K_j1c6yPE9owlnw',\n",
       " '8Kc00AFQ8-DSrNQCrkVui2gYGfJEbVYWPt1LI6gMl1JfYmIuRefN3jn4UxQ6Mmzx6gjR3JFhdqVgFg',\n",
       " '0cDp43ui2J4SsP51C-8dOUMTjsXNQ_DeW1yyWw9v6bqgPAJU_5Wg7TgPA9PBnnH70yYKXcemObnUng',\n",
       " 'z54HaauybF0p4ZOeETOY_DQEien2GjKL31k491Ph3z4YccWIYF6-oLURzMfhUxEdSRRk-xKopsu3jg']"
      ]
     },
     "execution_count": 12,
     "metadata": {},
     "output_type": "execute_result"
    }
   ],
   "source": [
    "#List of all the game's participants with puuids\n",
    "match['metadata']['participants']"
   ]
  },
  {
   "cell_type": "code",
   "execution_count": 75,
   "id": "16667cb2",
   "metadata": {},
   "outputs": [
    {
     "data": {
      "text/plain": [
       "0"
      ]
     },
     "execution_count": 75,
     "metadata": {},
     "output_type": "execute_result"
    }
   ],
   "source": [
    "#get your index in a game, will be usefull later\n",
    "puuid=my_profile['puuid']\n",
    "participants = match['metadata']['participants']\n",
    "# Now, find where in the data our players puuid is found\n",
    "player_index = participants.index(puuid)\n",
    "player_index"
   ]
  },
  {
   "cell_type": "code",
   "execution_count": 13,
   "id": "21c7a936",
   "metadata": {},
   "outputs": [
    {
     "data": {
      "text/plain": [
       "{'id': '2yWfVNJBjfnX7cP44HMRIbk-y4ERMgyZR8OaH4bitgs5BhM',\n",
       " 'accountId': 'JhYLPxAvbDjC22cJMKdlGWI1rOHBtuzfKjAAyGvL1dBzLg',\n",
       " 'puuid': 'Bk8A3yDI4mUKGgXvAUz8gnFXTbFHjezYlSap4E6i_eYCI96b0h5XmZdaM6L-8s3l76MizQ60SZIy4A',\n",
       " 'name': 'H4riis',\n",
       " 'profileIconId': 1296,\n",
       " 'revisionDate': 1680644142223,\n",
       " 'summonerLevel': 165}"
      ]
     },
     "execution_count": 13,
     "metadata": {},
     "output_type": "execute_result"
    }
   ],
   "source": [
    "summoner=watcher.summoner.by_puuid(my_region,match['metadata']['participants'][2])\n",
    "summoner"
   ]
  },
  {
   "cell_type": "markdown",
   "id": "8fcf3861",
   "metadata": {},
   "source": [
    "#### Using info"
   ]
  },
  {
   "cell_type": "code",
   "execution_count": 14,
   "id": "56788e70",
   "metadata": {},
   "outputs": [
    {
     "data": {
      "text/plain": [
       "'MamaYumYum'"
      ]
     },
     "execution_count": 14,
     "metadata": {},
     "output_type": "execute_result"
    }
   ],
   "source": [
    "match['info']['participants'][0]['summonerName']"
   ]
  },
  {
   "cell_type": "code",
   "execution_count": 15,
   "id": "bccaf648",
   "metadata": {},
   "outputs": [
    {
     "data": {
      "text/plain": [
       "{'id': 'tfQ1hZABPAxKvX6rkgpqWE7UszeqS8sq7lieyKopKUMu3Z0',\n",
       " 'accountId': 'RiVjJkjVb_T-e_hgpmXYL6oLTO6G8uGjre8oOQM7-sdaSQ',\n",
       " 'puuid': 'La6KBkKxEZGOS-jBVIqKsS8PzTvxz7BP_k_AIeK-EkbUrCgHgGy3UW1XGX4h6qN4S7mnIqwIzCKfYw',\n",
       " 'name': 'MamaYumYum',\n",
       " 'profileIconId': 5622,\n",
       " 'revisionDate': 1680644142223,\n",
       " 'summonerLevel': 524}"
      ]
     },
     "execution_count": 15,
     "metadata": {},
     "output_type": "execute_result"
    }
   ],
   "source": [
    "summoner_name=watcher.summoner.by_puuid(my_region,match['info']['participants'][0]['puuid'])\n",
    "summoner_name"
   ]
  },
  {
   "cell_type": "markdown",
   "id": "0e32e00d",
   "metadata": {},
   "source": [
    "#### List of game's participants"
   ]
  },
  {
   "cell_type": "code",
   "execution_count": 16,
   "id": "c2b3b0e0",
   "metadata": {},
   "outputs": [],
   "source": [
    "def get_list_participants(my_region,match_id):\n",
    "    match=get_match(my_region,match_id)\n",
    "    list_participants=[]\n",
    "    for element in match['metadata']['participants']:\n",
    "        profile=watcher.summoner.by_puuid(my_region,element)\n",
    "        list_participants.append(profile['name'])\n",
    "    return list_participants"
   ]
  },
  {
   "cell_type": "code",
   "execution_count": 17,
   "id": "a043ffca",
   "metadata": {},
   "outputs": [
    {
     "data": {
      "text/plain": [
       "['MamaYumYum',\n",
       " 'DreamAboutMe',\n",
       " 'H4riis',\n",
       " 'Mythic V2',\n",
       " 'lce Wallow Come',\n",
       " 'Solarys IV',\n",
       " 'MMT Darkyyy',\n",
       " 'ScottTheUnit',\n",
       " 'Baldulf',\n",
       " 'Guv']"
      ]
     },
     "execution_count": 17,
     "metadata": {},
     "output_type": "execute_result"
    }
   ],
   "source": [
    "list_participants=get_list_participants(my_region,matches_list[0])\n",
    "list_participants"
   ]
  },
  {
   "cell_type": "markdown",
   "id": "feed9a50",
   "metadata": {},
   "source": [
    "#### Conversion unix timestamp"
   ]
  },
  {
   "cell_type": "code",
   "execution_count": 68,
   "id": "229080de",
   "metadata": {},
   "outputs": [],
   "source": [
    "# This function will convert unix time into a date, it can be used for further works\n",
    "# for ex: Game per day,games played during a certain period etc...\n",
    "def get_date(unix_time):\n",
    "    date_time = datetime.datetime.fromtimestamp(unix_time/1000)\n",
    "    date=date_time.strftime('%Y-%m-%d %H:%M:%S')\n",
    "    return date"
   ]
  },
  {
   "cell_type": "code",
   "execution_count": 69,
   "id": "cd193451",
   "metadata": {},
   "outputs": [
    {
     "data": {
      "text/plain": [
       "'2023-04-04 23:12:51'"
      ]
     },
     "execution_count": 69,
     "metadata": {},
     "output_type": "execute_result"
    }
   ],
   "source": [
    "\n",
    "unix_time = match['info']['gameCreation']\n",
    "get_date(unix_time)"
   ]
  },
  {
   "cell_type": "markdown",
   "id": "f7923c5b",
   "metadata": {},
   "source": [
    "## Game Details  \n"
   ]
  },
  {
   "cell_type": "code",
   "execution_count": 83,
   "id": "384bbb55",
   "metadata": {},
   "outputs": [],
   "source": [
    "# This function gives information about the last game using matches_list\n",
    "#queueId is an integer that gives us the game mode\n",
    "#400 : Draft game  \n",
    "#420 : Ranked game  \n",
    "#440 : Ranked flex  \n",
    "#450 : ARAM\n",
    "\n",
    "def game_results_resume(matches_list):\n",
    "    game_results_df=[]\n",
    "    for match in matches_list:\n",
    "        match_json=get_match(my_region,match)\n",
    "        \n",
    "        #We get the player_index to get to match_json['info']['participants'][player_index]['win']\n",
    "        #We can't use match_json['info']['teams']['win'] as we are not appearing at the same index in each game depending\n",
    "        # on blue side and red side.\n",
    "        participants = match_json['metadata']['participants']\n",
    "        player_index = participants.index(puuid)\n",
    "        \n",
    "        info_row={}\n",
    "        info_row['gameId']=match_json['metadata']['matchId']\n",
    "        info_row['Type']=match_json['info']['gameMode']\n",
    "        info_row['queueId']=match_json['info']['queueId']\n",
    "        info_row['Win']=match_json['info']['participants'][player_index]['win']\n",
    "        info_row['Game Duration']=match_json['info']['gameDuration']/60\n",
    "        info_row['Date']=get_date(match_json['info']['gameCreation'])\n",
    "        game_results_df.append(info_row)\n",
    "    df=pd.DataFrame(game_results_df)\n",
    "    return df\n",
    "       \n",
    "            \n",
    "    "
   ]
  },
  {
   "cell_type": "code",
   "execution_count": 85,
   "id": "c6b360f3",
   "metadata": {},
   "outputs": [
    {
     "data": {
      "text/html": [
       "<div>\n",
       "<style scoped>\n",
       "    .dataframe tbody tr th:only-of-type {\n",
       "        vertical-align: middle;\n",
       "    }\n",
       "\n",
       "    .dataframe tbody tr th {\n",
       "        vertical-align: top;\n",
       "    }\n",
       "\n",
       "    .dataframe thead th {\n",
       "        text-align: right;\n",
       "    }\n",
       "</style>\n",
       "<table border=\"1\" class=\"dataframe\">\n",
       "  <thead>\n",
       "    <tr style=\"text-align: right;\">\n",
       "      <th></th>\n",
       "      <th>gameId</th>\n",
       "      <th>Type</th>\n",
       "      <th>queueId</th>\n",
       "      <th>Win</th>\n",
       "      <th>Game Duration</th>\n",
       "      <th>Date</th>\n",
       "    </tr>\n",
       "  </thead>\n",
       "  <tbody>\n",
       "    <tr>\n",
       "      <th>0</th>\n",
       "      <td>EUW1_6346829954</td>\n",
       "      <td>ARAM</td>\n",
       "      <td>450</td>\n",
       "      <td>False</td>\n",
       "      <td>22.266667</td>\n",
       "      <td>2023-04-04 23:12:51</td>\n",
       "    </tr>\n",
       "    <tr>\n",
       "      <th>1</th>\n",
       "      <td>EUW1_6346406135</td>\n",
       "      <td>ARAM</td>\n",
       "      <td>450</td>\n",
       "      <td>True</td>\n",
       "      <td>18.950000</td>\n",
       "      <td>2023-04-04 19:30:31</td>\n",
       "    </tr>\n",
       "    <tr>\n",
       "      <th>2</th>\n",
       "      <td>EUW1_6346377480</td>\n",
       "      <td>CLASSIC</td>\n",
       "      <td>400</td>\n",
       "      <td>False</td>\n",
       "      <td>15.100000</td>\n",
       "      <td>2023-04-04 19:11:14</td>\n",
       "    </tr>\n",
       "    <tr>\n",
       "      <th>3</th>\n",
       "      <td>EUW1_6345492861</td>\n",
       "      <td>ARAM</td>\n",
       "      <td>450</td>\n",
       "      <td>False</td>\n",
       "      <td>20.300000</td>\n",
       "      <td>2023-04-03 23:50:23</td>\n",
       "    </tr>\n",
       "    <tr>\n",
       "      <th>4</th>\n",
       "      <td>EUW1_6344920335</td>\n",
       "      <td>ARAM</td>\n",
       "      <td>450</td>\n",
       "      <td>True</td>\n",
       "      <td>19.766667</td>\n",
       "      <td>2023-04-03 18:55:48</td>\n",
       "    </tr>\n",
       "    <tr>\n",
       "      <th>5</th>\n",
       "      <td>EUW1_6344828393</td>\n",
       "      <td>CLASSIC</td>\n",
       "      <td>420</td>\n",
       "      <td>True</td>\n",
       "      <td>26.083333</td>\n",
       "      <td>2023-04-03 18:02:53</td>\n",
       "    </tr>\n",
       "    <tr>\n",
       "      <th>6</th>\n",
       "      <td>EUW1_6344780310</td>\n",
       "      <td>CLASSIC</td>\n",
       "      <td>420</td>\n",
       "      <td>False</td>\n",
       "      <td>24.866667</td>\n",
       "      <td>2023-04-03 17:29:46</td>\n",
       "    </tr>\n",
       "    <tr>\n",
       "      <th>7</th>\n",
       "      <td>EUW1_6340799573</td>\n",
       "      <td>ARAM</td>\n",
       "      <td>450</td>\n",
       "      <td>True</td>\n",
       "      <td>18.583333</td>\n",
       "      <td>2023-04-01 00:01:06</td>\n",
       "    </tr>\n",
       "    <tr>\n",
       "      <th>8</th>\n",
       "      <td>EUW1_6340749762</td>\n",
       "      <td>ARAM</td>\n",
       "      <td>450</td>\n",
       "      <td>True</td>\n",
       "      <td>20.500000</td>\n",
       "      <td>2023-03-31 23:36:14</td>\n",
       "    </tr>\n",
       "    <tr>\n",
       "      <th>9</th>\n",
       "      <td>EUW1_6335975261</td>\n",
       "      <td>CLASSIC</td>\n",
       "      <td>400</td>\n",
       "      <td>True</td>\n",
       "      <td>33.900000</td>\n",
       "      <td>2023-03-28 19:26:01</td>\n",
       "    </tr>\n",
       "    <tr>\n",
       "      <th>10</th>\n",
       "      <td>EUW1_6335029842</td>\n",
       "      <td>ARAM</td>\n",
       "      <td>450</td>\n",
       "      <td>True</td>\n",
       "      <td>17.133333</td>\n",
       "      <td>2023-03-27 23:17:12</td>\n",
       "    </tr>\n",
       "    <tr>\n",
       "      <th>11</th>\n",
       "      <td>EUW1_6334965764</td>\n",
       "      <td>ARAM</td>\n",
       "      <td>450</td>\n",
       "      <td>False</td>\n",
       "      <td>26.316667</td>\n",
       "      <td>2023-03-27 22:43:54</td>\n",
       "    </tr>\n",
       "    <tr>\n",
       "      <th>12</th>\n",
       "      <td>EUW1_6333590234</td>\n",
       "      <td>ARAM</td>\n",
       "      <td>450</td>\n",
       "      <td>True</td>\n",
       "      <td>19.933333</td>\n",
       "      <td>2023-03-26 23:20:20</td>\n",
       "    </tr>\n",
       "    <tr>\n",
       "      <th>13</th>\n",
       "      <td>EUW1_6333492894</td>\n",
       "      <td>CLASSIC</td>\n",
       "      <td>440</td>\n",
       "      <td>False</td>\n",
       "      <td>39.183333</td>\n",
       "      <td>2023-03-26 22:30:16</td>\n",
       "    </tr>\n",
       "    <tr>\n",
       "      <th>14</th>\n",
       "      <td>EUW1_6328709921</td>\n",
       "      <td>ARAM</td>\n",
       "      <td>450</td>\n",
       "      <td>True</td>\n",
       "      <td>24.133333</td>\n",
       "      <td>2023-03-23 22:38:23</td>\n",
       "    </tr>\n",
       "    <tr>\n",
       "      <th>15</th>\n",
       "      <td>EUW1_6328662160</td>\n",
       "      <td>ARAM</td>\n",
       "      <td>450</td>\n",
       "      <td>False</td>\n",
       "      <td>17.233333</td>\n",
       "      <td>2023-03-23 22:17:35</td>\n",
       "    </tr>\n",
       "    <tr>\n",
       "      <th>16</th>\n",
       "      <td>EUW1_6328212297</td>\n",
       "      <td>ARAM</td>\n",
       "      <td>450</td>\n",
       "      <td>True</td>\n",
       "      <td>22.083333</td>\n",
       "      <td>2023-03-23 19:23:06</td>\n",
       "    </tr>\n",
       "    <tr>\n",
       "      <th>17</th>\n",
       "      <td>EUW1_6323942872</td>\n",
       "      <td>CLASSIC</td>\n",
       "      <td>400</td>\n",
       "      <td>False</td>\n",
       "      <td>46.483333</td>\n",
       "      <td>2023-03-20 20:01:44</td>\n",
       "    </tr>\n",
       "    <tr>\n",
       "      <th>18</th>\n",
       "      <td>EUW1_6322470530</td>\n",
       "      <td>ARAM</td>\n",
       "      <td>450</td>\n",
       "      <td>True</td>\n",
       "      <td>25.766667</td>\n",
       "      <td>2023-03-19 18:29:51</td>\n",
       "    </tr>\n",
       "    <tr>\n",
       "      <th>19</th>\n",
       "      <td>EUW1_6322308414</td>\n",
       "      <td>CLASSIC</td>\n",
       "      <td>400</td>\n",
       "      <td>True</td>\n",
       "      <td>40.000000</td>\n",
       "      <td>2023-03-19 17:05:49</td>\n",
       "    </tr>\n",
       "  </tbody>\n",
       "</table>\n",
       "</div>"
      ],
      "text/plain": [
       "             gameId     Type  queueId    Win  Game Duration  \\\n",
       "0   EUW1_6346829954     ARAM      450  False      22.266667   \n",
       "1   EUW1_6346406135     ARAM      450   True      18.950000   \n",
       "2   EUW1_6346377480  CLASSIC      400  False      15.100000   \n",
       "3   EUW1_6345492861     ARAM      450  False      20.300000   \n",
       "4   EUW1_6344920335     ARAM      450   True      19.766667   \n",
       "5   EUW1_6344828393  CLASSIC      420   True      26.083333   \n",
       "6   EUW1_6344780310  CLASSIC      420  False      24.866667   \n",
       "7   EUW1_6340799573     ARAM      450   True      18.583333   \n",
       "8   EUW1_6340749762     ARAM      450   True      20.500000   \n",
       "9   EUW1_6335975261  CLASSIC      400   True      33.900000   \n",
       "10  EUW1_6335029842     ARAM      450   True      17.133333   \n",
       "11  EUW1_6334965764     ARAM      450  False      26.316667   \n",
       "12  EUW1_6333590234     ARAM      450   True      19.933333   \n",
       "13  EUW1_6333492894  CLASSIC      440  False      39.183333   \n",
       "14  EUW1_6328709921     ARAM      450   True      24.133333   \n",
       "15  EUW1_6328662160     ARAM      450  False      17.233333   \n",
       "16  EUW1_6328212297     ARAM      450   True      22.083333   \n",
       "17  EUW1_6323942872  CLASSIC      400  False      46.483333   \n",
       "18  EUW1_6322470530     ARAM      450   True      25.766667   \n",
       "19  EUW1_6322308414  CLASSIC      400   True      40.000000   \n",
       "\n",
       "                   Date  \n",
       "0   2023-04-04 23:12:51  \n",
       "1   2023-04-04 19:30:31  \n",
       "2   2023-04-04 19:11:14  \n",
       "3   2023-04-03 23:50:23  \n",
       "4   2023-04-03 18:55:48  \n",
       "5   2023-04-03 18:02:53  \n",
       "6   2023-04-03 17:29:46  \n",
       "7   2023-04-01 00:01:06  \n",
       "8   2023-03-31 23:36:14  \n",
       "9   2023-03-28 19:26:01  \n",
       "10  2023-03-27 23:17:12  \n",
       "11  2023-03-27 22:43:54  \n",
       "12  2023-03-26 23:20:20  \n",
       "13  2023-03-26 22:30:16  \n",
       "14  2023-03-23 22:38:23  \n",
       "15  2023-03-23 22:17:35  \n",
       "16  2023-03-23 19:23:06  \n",
       "17  2023-03-20 20:01:44  \n",
       "18  2023-03-19 18:29:51  \n",
       "19  2023-03-19 17:05:49  "
      ]
     },
     "execution_count": 85,
     "metadata": {},
     "output_type": "execute_result"
    }
   ],
   "source": [
    "game_results=game_results_resume(matches_list)\n",
    "game_results"
   ]
  },
  {
   "cell_type": "code",
   "execution_count": 86,
   "id": "b5278f2c",
   "metadata": {},
   "outputs": [],
   "source": [
    "#We build a function that gives a game's summary similar to the ones we can get on opgg or leagueofgraph.\n",
    "def game_summary(my_region,match_id):\n",
    "    game_summary_df=[]\n",
    "    match=get_match(my_region,match_id)\n",
    "    game_info=match['info']\n",
    "    \n",
    "    for row in game_info['participants']:\n",
    "        participants_row={}\n",
    "        participants_row['summonerName']=row['summonerName']\n",
    "        #There is no role or lane in ARAM mode\n",
    "        if row['individualPosition']==\"Invalid\":\n",
    "            participants_row['lane']='ARAM'\n",
    "        else:  \n",
    "            participants_row['lane']=row['individualPosition']\n",
    "        participants_row['champion']=row['championName']\n",
    "        participants_row['kills']=row['kills']\n",
    "        participants_row['assists']=row['assists']\n",
    "        participants_row['deaths']=row['deaths']\n",
    "        participants_row['kda']=round((row['kills']+row['assists'])/row['deaths']\n",
    "                                       ,2)\n",
    "        participants_row['total damages']=row['totalDamageDealtToChampions']\n",
    "        participants_row['win']=row['win']\n",
    "        game_summary_df.append(participants_row)\n",
    "    df=pd.DataFrame(game_summary_df)\n",
    "    return df\n",
    "    \n"
   ]
  },
  {
   "cell_type": "code",
   "execution_count": 91,
   "id": "27e9e244",
   "metadata": {},
   "outputs": [
    {
     "data": {
      "text/plain": [
       "'EUW1_6344828393'"
      ]
     },
     "execution_count": 91,
     "metadata": {},
     "output_type": "execute_result"
    }
   ],
   "source": [
    "matches_list[5]"
   ]
  },
  {
   "cell_type": "code",
   "execution_count": 95,
   "id": "081147e5",
   "metadata": {},
   "outputs": [
    {
     "data": {
      "text/html": [
       "<div>\n",
       "<style scoped>\n",
       "    .dataframe tbody tr th:only-of-type {\n",
       "        vertical-align: middle;\n",
       "    }\n",
       "\n",
       "    .dataframe tbody tr th {\n",
       "        vertical-align: top;\n",
       "    }\n",
       "\n",
       "    .dataframe thead th {\n",
       "        text-align: right;\n",
       "    }\n",
       "</style>\n",
       "<table border=\"1\" class=\"dataframe\">\n",
       "  <thead>\n",
       "    <tr style=\"text-align: right;\">\n",
       "      <th></th>\n",
       "      <th>summonerName</th>\n",
       "      <th>lane</th>\n",
       "      <th>champion</th>\n",
       "      <th>kills</th>\n",
       "      <th>assists</th>\n",
       "      <th>deaths</th>\n",
       "      <th>kda</th>\n",
       "      <th>total damages</th>\n",
       "      <th>win</th>\n",
       "    </tr>\n",
       "  </thead>\n",
       "  <tbody>\n",
       "    <tr>\n",
       "      <th>0</th>\n",
       "      <td>Atomare</td>\n",
       "      <td>TOP</td>\n",
       "      <td>Malphite</td>\n",
       "      <td>2</td>\n",
       "      <td>6</td>\n",
       "      <td>2</td>\n",
       "      <td>4.00</td>\n",
       "      <td>15220</td>\n",
       "      <td>True</td>\n",
       "    </tr>\n",
       "    <tr>\n",
       "      <th>1</th>\n",
       "      <td>Jaegha</td>\n",
       "      <td>JUNGLE</td>\n",
       "      <td>Amumu</td>\n",
       "      <td>3</td>\n",
       "      <td>7</td>\n",
       "      <td>3</td>\n",
       "      <td>3.33</td>\n",
       "      <td>11208</td>\n",
       "      <td>True</td>\n",
       "    </tr>\n",
       "    <tr>\n",
       "      <th>2</th>\n",
       "      <td>MamaYumYum</td>\n",
       "      <td>MIDDLE</td>\n",
       "      <td>Zed</td>\n",
       "      <td>7</td>\n",
       "      <td>5</td>\n",
       "      <td>4</td>\n",
       "      <td>3.00</td>\n",
       "      <td>13462</td>\n",
       "      <td>True</td>\n",
       "    </tr>\n",
       "    <tr>\n",
       "      <th>3</th>\n",
       "      <td>BMO0333</td>\n",
       "      <td>BOTTOM</td>\n",
       "      <td>Twitch</td>\n",
       "      <td>21</td>\n",
       "      <td>6</td>\n",
       "      <td>3</td>\n",
       "      <td>9.00</td>\n",
       "      <td>33212</td>\n",
       "      <td>True</td>\n",
       "    </tr>\n",
       "    <tr>\n",
       "      <th>4</th>\n",
       "      <td>ShadowPlays66</td>\n",
       "      <td>UTILITY</td>\n",
       "      <td>Seraphine</td>\n",
       "      <td>4</td>\n",
       "      <td>21</td>\n",
       "      <td>4</td>\n",
       "      <td>6.25</td>\n",
       "      <td>16002</td>\n",
       "      <td>True</td>\n",
       "    </tr>\n",
       "    <tr>\n",
       "      <th>5</th>\n",
       "      <td>Gyref</td>\n",
       "      <td>TOP</td>\n",
       "      <td>Chogath</td>\n",
       "      <td>3</td>\n",
       "      <td>2</td>\n",
       "      <td>4</td>\n",
       "      <td>1.25</td>\n",
       "      <td>13835</td>\n",
       "      <td>False</td>\n",
       "    </tr>\n",
       "    <tr>\n",
       "      <th>6</th>\n",
       "      <td>Corndawgfan</td>\n",
       "      <td>JUNGLE</td>\n",
       "      <td>MonkeyKing</td>\n",
       "      <td>1</td>\n",
       "      <td>5</td>\n",
       "      <td>8</td>\n",
       "      <td>0.75</td>\n",
       "      <td>9932</td>\n",
       "      <td>False</td>\n",
       "    </tr>\n",
       "    <tr>\n",
       "      <th>7</th>\n",
       "      <td>Μars</td>\n",
       "      <td>MIDDLE</td>\n",
       "      <td>Annie</td>\n",
       "      <td>6</td>\n",
       "      <td>5</td>\n",
       "      <td>6</td>\n",
       "      <td>1.83</td>\n",
       "      <td>15296</td>\n",
       "      <td>False</td>\n",
       "    </tr>\n",
       "    <tr>\n",
       "      <th>8</th>\n",
       "      <td>reeBro</td>\n",
       "      <td>BOTTOM</td>\n",
       "      <td>Zeri</td>\n",
       "      <td>2</td>\n",
       "      <td>3</td>\n",
       "      <td>7</td>\n",
       "      <td>0.71</td>\n",
       "      <td>4837</td>\n",
       "      <td>False</td>\n",
       "    </tr>\n",
       "    <tr>\n",
       "      <th>9</th>\n",
       "      <td>srikig</td>\n",
       "      <td>UTILITY</td>\n",
       "      <td>Senna</td>\n",
       "      <td>4</td>\n",
       "      <td>8</td>\n",
       "      <td>12</td>\n",
       "      <td>1.00</td>\n",
       "      <td>7311</td>\n",
       "      <td>False</td>\n",
       "    </tr>\n",
       "  </tbody>\n",
       "</table>\n",
       "</div>"
      ],
      "text/plain": [
       "    summonerName     lane    champion  kills  assists  deaths   kda  \\\n",
       "0        Atomare      TOP    Malphite      2        6       2  4.00   \n",
       "1         Jaegha   JUNGLE       Amumu      3        7       3  3.33   \n",
       "2     MamaYumYum   MIDDLE         Zed      7        5       4  3.00   \n",
       "3        BMO0333   BOTTOM      Twitch     21        6       3  9.00   \n",
       "4  ShadowPlays66  UTILITY   Seraphine      4       21       4  6.25   \n",
       "5          Gyref      TOP     Chogath      3        2       4  1.25   \n",
       "6    Corndawgfan   JUNGLE  MonkeyKing      1        5       8  0.75   \n",
       "7           Μars   MIDDLE       Annie      6        5       6  1.83   \n",
       "8         reeBro   BOTTOM        Zeri      2        3       7  0.71   \n",
       "9         srikig  UTILITY       Senna      4        8      12  1.00   \n",
       "\n",
       "   total damages    win  \n",
       "0          15220   True  \n",
       "1          11208   True  \n",
       "2          13462   True  \n",
       "3          33212   True  \n",
       "4          16002   True  \n",
       "5          13835  False  \n",
       "6           9932  False  \n",
       "7          15296  False  \n",
       "8           4837  False  \n",
       "9           7311  False  "
      ]
     },
     "execution_count": 95,
     "metadata": {},
     "output_type": "execute_result"
    }
   ],
   "source": [
    "# I used a game that wasn't an aram\n",
    "game_summary=game_summary(my_region,matches_list[5])\n",
    "game_summary\n",
    "#We can see that Twitch carried hard"
   ]
  },
  {
   "cell_type": "markdown",
   "id": "f622c83b",
   "metadata": {},
   "source": [
    "## Champions details"
   ]
  },
  {
   "cell_type": "code",
   "execution_count": 96,
   "id": "d47af05e",
   "metadata": {},
   "outputs": [],
   "source": [
    "#This function returns a list of the last champions played in the last nbMatches matches\n",
    "def last_champ_played(my_region, my_summoner,nbMatches):\n",
    "    last_champ_played=[]\n",
    "    match_list=get_matches_list(my_region,my_summoner,nbMatches)\n",
    "    for match in match_list:\n",
    "        match_played=watcher.match.by_id(my_region,match)\n",
    "        for participants in match_played['info']['participants']:\n",
    "            if participants['summonerName']==my_summoner:\n",
    "                last_champ_played.append(participants['championName'])\n",
    "                break\n",
    "    return last_champ_played"
   ]
  },
  {
   "cell_type": "code",
   "execution_count": 97,
   "id": "e6ff0129",
   "metadata": {},
   "outputs": [
    {
     "data": {
      "text/plain": [
       "['Singed',\n",
       " 'Kassadin',\n",
       " 'Cassiopeia',\n",
       " 'Vi',\n",
       " 'AurelionSol',\n",
       " 'Zed',\n",
       " 'Yone',\n",
       " 'Chogath',\n",
       " 'Zed',\n",
       " 'Gragas',\n",
       " 'Neeko',\n",
       " 'Sylas',\n",
       " 'Yasuo',\n",
       " 'Jayce',\n",
       " 'Shyvana',\n",
       " 'Fiora',\n",
       " 'Taric',\n",
       " 'Gragas',\n",
       " 'Twitch',\n",
       " 'Irelia']"
      ]
     },
     "execution_count": 97,
     "metadata": {},
     "output_type": "execute_result"
    }
   ],
   "source": [
    "last_champ_played=last_champ_played(my_region,my_summoner,nbMatches)\n",
    "last_champ_played"
   ]
  },
  {
   "cell_type": "code",
   "execution_count": 98,
   "id": "21508186",
   "metadata": {},
   "outputs": [],
   "source": [
    "#We can do the same function using matches_list only\n",
    "\n",
    "def list_champ_played(matches_list):\n",
    "    champ_list=[]\n",
    "    for match in matches_list:\n",
    "        match_played=watcher.match.by_id(my_region,match)\n",
    "        for participants in match_played['info']['participants']:\n",
    "            if participants['summonerName']==my_summoner:\n",
    "                champ_list.append(participants['championName'])\n",
    "                break\n",
    "    return champ_list\n",
    "    "
   ]
  },
  {
   "cell_type": "code",
   "execution_count": 99,
   "id": "5e7b6c40",
   "metadata": {},
   "outputs": [
    {
     "data": {
      "text/plain": [
       "['Singed',\n",
       " 'Kassadin',\n",
       " 'Cassiopeia',\n",
       " 'Vi',\n",
       " 'AurelionSol',\n",
       " 'Zed',\n",
       " 'Yone',\n",
       " 'Chogath',\n",
       " 'Zed',\n",
       " 'Gragas',\n",
       " 'Neeko',\n",
       " 'Sylas',\n",
       " 'Yasuo',\n",
       " 'Jayce',\n",
       " 'Shyvana',\n",
       " 'Fiora',\n",
       " 'Taric',\n",
       " 'Gragas',\n",
       " 'Twitch',\n",
       " 'Irelia']"
      ]
     },
     "execution_count": 99,
     "metadata": {},
     "output_type": "execute_result"
    }
   ],
   "source": [
    "champ_played=list_champ_played(matches_list)\n",
    "champ_played"
   ]
  },
  {
   "cell_type": "code",
   "execution_count": 101,
   "id": "9becca56",
   "metadata": {},
   "outputs": [],
   "source": [
    "def all_champ_played(matches_list):\n",
    "    champ_list=[]\n",
    "    for match in matches_list:\n",
    "        match_played=watcher.match.by_id(my_region,match)\n",
    "        for participants in match_played['info']['participants']:\n",
    "            champ_list.append(participants['championName'])\n",
    "    return champ_list\n",
    "    "
   ]
  },
  {
   "cell_type": "code",
   "execution_count": 102,
   "id": "14c144fe",
   "metadata": {},
   "outputs": [],
   "source": [
    "all_champ=all_champ_played(matches_list)"
   ]
  },
  {
   "cell_type": "code",
   "execution_count": 103,
   "id": "1df1ac1b",
   "metadata": {},
   "outputs": [
    {
     "data": {
      "text/plain": [
       "[('Zed', 6),\n",
       " ('Jinx', 5),\n",
       " ('Annie', 4),\n",
       " ('Milio', 4),\n",
       " ('Senna', 4),\n",
       " ('Xayah', 4),\n",
       " ('Jhin', 3),\n",
       " ('Graves', 3),\n",
       " ('Zeri', 3),\n",
       " ('Thresh', 3),\n",
       " ('Malzahar', 3),\n",
       " ('Vi', 3),\n",
       " ('Kaisa', 3),\n",
       " ('AurelionSol', 3),\n",
       " ('Ashe', 3)]"
      ]
     },
     "execution_count": 103,
     "metadata": {},
     "output_type": "execute_result"
    }
   ],
   "source": [
    "#Using Counter to show champs played\n",
    "#Counter creates a dict\n",
    "from collections import Counter\n",
    "z=Counter(all_champ).most_common(15)\n",
    "z"
   ]
  },
  {
   "cell_type": "code",
   "execution_count": 104,
   "id": "5efab7b0",
   "metadata": {},
   "outputs": [
    {
     "data": {
      "text/plain": [
       "Zed        6\n",
       "Jinx       5\n",
       "Xayah      4\n",
       "Senna      4\n",
       "Annie      4\n",
       "          ..\n",
       "Azir       1\n",
       "Kalista    1\n",
       "Neeko      1\n",
       "Vayne      1\n",
       "Ekko       1\n",
       "Length: 106, dtype: int64"
      ]
     },
     "execution_count": 104,
     "metadata": {},
     "output_type": "execute_result"
    }
   ],
   "source": [
    "#Using pd.Series to show champs played\n",
    "series=pd.Series(all_champ).value_counts()\n",
    "series\n"
   ]
  },
  {
   "cell_type": "markdown",
   "id": "a5407b69",
   "metadata": {},
   "source": [
    "## Filtering the games\n",
    "\n",
    "\n"
   ]
  },
  {
   "cell_type": "code",
   "execution_count": 106,
   "id": "acfdcd2f",
   "metadata": {},
   "outputs": [],
   "source": [
    "#We only want ranked or ranked flex games. We get rid of the other games with the attribute 'queueId'.  \n",
    "\n",
    "def ranked_list(matches_list):   \n",
    "    ranked_list=[]\n",
    "    for games in matches_list:\n",
    "        match_played=watcher.match.by_id(my_region,games)\n",
    "        if match_played['info']['queueId']== 420 or match_played['info']['queueId']== 440  :\n",
    "            ranked_list.append(match_played['metadata']['matchId'])\n",
    "    return ranked_list\n",
    "            \n",
    "    "
   ]
  },
  {
   "cell_type": "code",
   "execution_count": 107,
   "id": "ba57cdbf",
   "metadata": {},
   "outputs": [
    {
     "data": {
      "text/plain": [
       "['EUW1_6344828393', 'EUW1_6344780310', 'EUW1_6333492894']"
      ]
     },
     "execution_count": 107,
     "metadata": {},
     "output_type": "execute_result"
    }
   ],
   "source": [
    "#Only played 3 rankeds in my last 20 games\n",
    "ranked_list=ranked_list(matches_list)\n",
    "ranked_list"
   ]
  },
  {
   "cell_type": "code",
   "execution_count": 108,
   "id": "4dbcbf41",
   "metadata": {},
   "outputs": [
    {
     "data": {
      "text/plain": [
       "['Zed', 'Yone', 'Jayce']"
      ]
     },
     "execution_count": 108,
     "metadata": {},
     "output_type": "execute_result"
    }
   ],
   "source": [
    "#Let's see what champs were played on ranked games\n",
    "champ_ranked=list_champ_played(ranked_list)\n",
    "champ_ranked"
   ]
  }
 ],
 "metadata": {
  "kernelspec": {
   "display_name": "Python 3 (ipykernel)",
   "language": "python",
   "name": "python3"
  },
  "language_info": {
   "codemirror_mode": {
    "name": "ipython",
    "version": 3
   },
   "file_extension": ".py",
   "mimetype": "text/x-python",
   "name": "python",
   "nbconvert_exporter": "python",
   "pygments_lexer": "ipython3",
   "version": "3.9.13"
  }
 },
 "nbformat": 4,
 "nbformat_minor": 5
}

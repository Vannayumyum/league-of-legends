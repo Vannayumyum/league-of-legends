{
 "cells": [
  {
   "cell_type": "code",
   "execution_count": 1,
   "id": "60ad4ad1",
   "metadata": {},
   "outputs": [],
   "source": [
    "from riotwatcher import LolWatcher, ApiError\n",
    "import pandas as pd\n",
    "import time\n",
    "import datetime"
   ]
  },
  {
   "cell_type": "markdown",
   "id": "feed9a50",
   "metadata": {},
   "source": [
    "#### Conversion unix timestamp"
   ]
  },
  {
   "cell_type": "code",
   "execution_count": 2,
   "id": "7539c2aa",
   "metadata": {},
   "outputs": [
    {
     "name": "stdout",
     "output_type": "stream",
     "text": [
      "Date & Time => 2023-04-03 18:02:53\n"
     ]
    }
   ],
   "source": [
    "unix_time = 1680537773024/1000\n",
    " \n",
    "date_time = datetime.datetime.fromtimestamp(unix_time)\n",
    "print(\"Date & Time =>\" ,\n",
    "      date_time.strftime('%Y-%m-%d %H:%M:%S'))"
   ]
  },
  {
   "cell_type": "markdown",
   "id": "11e187a8",
   "metadata": {},
   "source": [
    "### Using Riot API key"
   ]
  },
  {
   "cell_type": "code",
   "execution_count": 3,
   "id": "ae627858",
   "metadata": {},
   "outputs": [],
   "source": [
    "api_key = 'RGAPI-xxxx'\n",
    "watcher = LolWatcher(api_key)\n",
    "my_region = 'euw1'\n",
    "my_summoner=''"
   ]
  },
  {
   "cell_type": "markdown",
   "id": "21b34623",
   "metadata": {},
   "source": [
    "#### Profile information"
   ]
  },
  {
   "cell_type": "code",
   "execution_count": 6,
   "id": "2bdfb420",
   "metadata": {},
   "outputs": [],
   "source": [
    "my_profile = watcher.summoner.by_name(my_region,'MamaYumYum')"
   ]
  },
  {
   "cell_type": "code",
   "execution_count": 7,
   "id": "0011e03c",
   "metadata": {},
   "outputs": [
    {
     "name": "stdout",
     "output_type": "stream",
     "text": [
      "{'id': 'tfQ1hZABPAxKvX6rkgpqWE7UszeqS8sq7lieyKopKUMu3Z0', 'accountId': 'RiVjJkjVb_T-e_hgpmXYL6oLTO6G8uGjre8oOQM7-sdaSQ', 'puuid': 'La6KBkKxEZGOS-jBVIqKsS8PzTvxz7BP_k_AIeK-EkbUrCgHgGy3UW1XGX4h6qN4S7mnIqwIzCKfYw', 'name': 'MamaYumYum', 'profileIconId': 5622, 'revisionDate': 1680559884593, 'summonerLevel': 524}\n"
     ]
    }
   ],
   "source": [
    "print(my_profile)"
   ]
  },
  {
   "cell_type": "code",
   "execution_count": 8,
   "id": "45b09581",
   "metadata": {},
   "outputs": [
    {
     "name": "stdout",
     "output_type": "stream",
     "text": [
      "[{'leagueId': '50a6cc74-60c4-4896-aa2a-54c73299f7c7', 'queueType': 'RANKED_SOLO_5x5', 'tier': 'PLATINUM', 'rank': 'IV', 'summonerId': 'tfQ1hZABPAxKvX6rkgpqWE7UszeqS8sq7lieyKopKUMu3Z0', 'summonerName': 'MamaYumYum', 'leaguePoints': 47, 'wins': 102, 'losses': 99, 'veteran': False, 'inactive': False, 'freshBlood': False, 'hotStreak': False}]\n"
     ]
    }
   ],
   "source": [
    "my_ranked_stats = watcher.league.by_summoner(my_region,my_profile['id'])\n",
    "print(my_ranked_stats)"
   ]
  },
  {
   "cell_type": "markdown",
   "id": "d751c3a1",
   "metadata": {},
   "source": [
    "### Match information"
   ]
  },
  {
   "cell_type": "code",
   "execution_count": 9,
   "id": "ae68bbba",
   "metadata": {},
   "outputs": [],
   "source": [
    "my_matches=watcher.match.matchlist_by_puuid(\"europe\",my_profile['puuid'])"
   ]
  },
  {
   "cell_type": "code",
   "execution_count": 10,
   "id": "5c107593",
   "metadata": {},
   "outputs": [
    {
     "data": {
      "text/plain": [
       "['EUW1_6345492861',\n",
       " 'EUW1_6344920335',\n",
       " 'EUW1_6344828393',\n",
       " 'EUW1_6344780310',\n",
       " 'EUW1_6340799573',\n",
       " 'EUW1_6340749762',\n",
       " 'EUW1_6335975261',\n",
       " 'EUW1_6335029842',\n",
       " 'EUW1_6334965764',\n",
       " 'EUW1_6333590234',\n",
       " 'EUW1_6333492894',\n",
       " 'EUW1_6328709921',\n",
       " 'EUW1_6328662160',\n",
       " 'EUW1_6328212297',\n",
       " 'EUW1_6323942872',\n",
       " 'EUW1_6322470530',\n",
       " 'EUW1_6322308414',\n",
       " 'EUW1_6320051820',\n",
       " 'EUW1_6319972374',\n",
       " 'EUW1_6318697809']"
      ]
     },
     "execution_count": 10,
     "metadata": {},
     "output_type": "execute_result"
    }
   ],
   "source": [
    "my_matches"
   ]
  },
  {
   "cell_type": "code",
   "execution_count": 11,
   "id": "edb4e1fc",
   "metadata": {},
   "outputs": [],
   "source": [
    "#getting access to my last ranked game\n",
    "match=watcher.match.by_id(my_region,my_matches[2])"
   ]
  },
  {
   "cell_type": "markdown",
   "id": "e7e27dd6",
   "metadata": {},
   "source": [
    "#### Using metadata"
   ]
  },
  {
   "cell_type": "code",
   "execution_count": 14,
   "id": "3b347bbb",
   "metadata": {},
   "outputs": [
    {
     "data": {
      "text/plain": [
       "['jvhJfetXTo3Ppm8qnJEOgtyRkmJszsjDJP3Y1FhtT-OBs4v9dlGwPDuWxyNKY9i0Q3FNXRbekl_Vng',\n",
       " '0WNykMNBHcSRTWddY1T8putr-T7Nd0UXKrhUbV0EnhwSZviSp0VjTDJCxFHLY7HwCpFk9mzaGuAtQg',\n",
       " 'La6KBkKxEZGOS-jBVIqKsS8PzTvxz7BP_k_AIeK-EkbUrCgHgGy3UW1XGX4h6qN4S7mnIqwIzCKfYw',\n",
       " '0QjAXicF433-AVyU5otjBgs-Z0VNkLjbV_BcF0lSpqj_rsvV6yDJH59Z_TBRTQ-Ow8dwgU1Ye2wrJw',\n",
       " 'iMz0A4gAGYGLjuy_MjN9y3un0-9-2CkVSFhYosJFipgs4pSx64SlSInAqTXmmPPVc25hZCSxD5AggQ',\n",
       " 'Ad8GiqmixSWYn8b87qYjorYLqdV3VJGKswCQNX6ItXeoITJwAA6mvR61TIWT23_FoyV82qKESEdA0g',\n",
       " 'zLvJ_6z0j9d4_KFNHz6tnlEktT4rKeBVbrTthgAuPMJEuC45dDG2wTZmjD_ZZ7fMMQiys6ep9pEHZg',\n",
       " 'XnyRN0GnVYdLrr08xyr_llTQv6hmZm-OK0_D1-Oq_uv5Cyb5E0ZowRNV-HynHecPvbL-li6bsA8zBQ',\n",
       " 'SkChQQg4UwVFl1mbo9USc9D35uzjWaZ1LAwKYSiLRqqgoHhIZjceePxBOgAcKr2ilWuFqdLT0eNIFQ',\n",
       " 'fv5HdFZuWLqwkUcqa9iL2_Rd0VTRgN3sWaZHC8vpmY9C-EnRQeIdCZJU0mdPdLAvWyo1tE0K_kfEGQ']"
      ]
     },
     "execution_count": 14,
     "metadata": {},
     "output_type": "execute_result"
    }
   ],
   "source": [
    "#getting list summoners's puuid in the game\n",
    "match['metadata']['participants']"
   ]
  },
  {
   "cell_type": "code",
   "execution_count": 15,
   "id": "21c7a936",
   "metadata": {},
   "outputs": [
    {
     "data": {
      "text/plain": [
       "{'id': 'oXTlDsF7C_budMF1Dmjer46_Okd2_JKI8BS_mcoJMUTrPw1h',\n",
       " 'accountId': 'k2eA7_xEQW2hQgFkr6e6l5A599IYEgDWIPEaTeq09nfqeykaGp5mGHfJ',\n",
       " 'puuid': 'jvhJfetXTo3Ppm8qnJEOgtyRkmJszsjDJP3Y1FhtT-OBs4v9dlGwPDuWxyNKY9i0Q3FNXRbekl_Vng',\n",
       " 'name': 'Atomare',\n",
       " 'profileIconId': 5335,\n",
       " 'revisionDate': 1680624761563,\n",
       " 'summonerLevel': 396}"
      ]
     },
     "execution_count": 15,
     "metadata": {},
     "output_type": "execute_result"
    }
   ],
   "source": [
    "summoner_name=watcher.summoner.by_puuid(my_region,match['metadata']['participants'][0])\n",
    "summoner_name"
   ]
  },
  {
   "cell_type": "code",
   "execution_count": 16,
   "id": "b3653d4c",
   "metadata": {},
   "outputs": [],
   "source": [
    "list_participants = []\n",
    "for element in match['metadata']['participants']:\n",
    "    profile=watcher.summoner.by_puuid(my_region,element)\n",
    "    list_participants.append(profile['name'])"
   ]
  },
  {
   "cell_type": "code",
   "execution_count": 17,
   "id": "2aa83228",
   "metadata": {},
   "outputs": [
    {
     "data": {
      "text/plain": [
       "['Atomare',\n",
       " 'Jaegha',\n",
       " 'MamaYumYum',\n",
       " 'BMO0333',\n",
       " 'ShadowPlays66',\n",
       " 'Gyref',\n",
       " 'Corndawgfan',\n",
       " 'Μars',\n",
       " 'reeBro',\n",
       " 'srikig']"
      ]
     },
     "execution_count": 17,
     "metadata": {},
     "output_type": "execute_result"
    }
   ],
   "source": [
    "list_participants"
   ]
  },
  {
   "cell_type": "markdown",
   "id": "8fcf3861",
   "metadata": {},
   "source": [
    "#### Using info"
   ]
  },
  {
   "cell_type": "code",
   "execution_count": 18,
   "id": "56788e70",
   "metadata": {},
   "outputs": [
    {
     "data": {
      "text/plain": [
       "'Atomare'"
      ]
     },
     "execution_count": 18,
     "metadata": {},
     "output_type": "execute_result"
    }
   ],
   "source": [
    "match['info']['participants'][0]['summonerName']"
   ]
  },
  {
   "cell_type": "code",
   "execution_count": 19,
   "id": "bccaf648",
   "metadata": {},
   "outputs": [
    {
     "data": {
      "text/plain": [
       "{'id': 'oXTlDsF7C_budMF1Dmjer46_Okd2_JKI8BS_mcoJMUTrPw1h',\n",
       " 'accountId': 'k2eA7_xEQW2hQgFkr6e6l5A599IYEgDWIPEaTeq09nfqeykaGp5mGHfJ',\n",
       " 'puuid': 'jvhJfetXTo3Ppm8qnJEOgtyRkmJszsjDJP3Y1FhtT-OBs4v9dlGwPDuWxyNKY9i0Q3FNXRbekl_Vng',\n",
       " 'name': 'Atomare',\n",
       " 'profileIconId': 5335,\n",
       " 'revisionDate': 1680624761563,\n",
       " 'summonerLevel': 396}"
      ]
     },
     "execution_count": 19,
     "metadata": {},
     "output_type": "execute_result"
    }
   ],
   "source": [
    "summoner_name=watcher.summoner.by_puuid(my_region,match['info']['participants'][0]['puuid'])\n",
    "summoner_name"
   ]
  },
  {
   "cell_type": "markdown",
   "id": "f7923c5b",
   "metadata": {},
   "source": [
    "### Game Details"
   ]
  },
  {
   "cell_type": "code",
   "execution_count": 20,
   "id": "081147e5",
   "metadata": {},
   "outputs": [],
   "source": [
    "game_detail=match['info']\n"
   ]
  },
  {
   "cell_type": "code",
   "execution_count": 21,
   "id": "c73057ef",
   "metadata": {},
   "outputs": [
    {
     "data": {
      "text/plain": [
       "'Atomare'"
      ]
     },
     "execution_count": 21,
     "metadata": {},
     "output_type": "execute_result"
    }
   ],
   "source": [
    "game_detail['participants'][0]['summonerName']"
   ]
  },
  {
   "cell_type": "code",
   "execution_count": 22,
   "id": "38372eb5",
   "metadata": {},
   "outputs": [],
   "source": [
    "game_detail_df=[]\n",
    "for row in game_detail['participants']:\n",
    "    participants_row={}\n",
    "    participants_row['summonerName']=row['summonerName']\n",
    "    participants_row['lane']=row['individualPosition']\n",
    "    participants_row['champion']=row['championName']\n",
    "    participants_row['kills']=row['kills']\n",
    "    participants_row['assists']=row['assists']\n",
    "    participants_row['deaths']=row['deaths']\n",
    "    participants_row['kda']=round((row['kills']+row['assists'])/row['deaths']\n",
    "                                   ,2)\n",
    "    participants_row['total damages']=row['totalDamageDealtToChampions']\n",
    "    participants_row['win']=row['win']\n",
    "    game_detail_df.append(participants_row)\n",
    "df=pd.DataFrame(game_detail_df)"
   ]
  },
  {
   "cell_type": "code",
   "execution_count": 23,
   "id": "8dda62e2",
   "metadata": {},
   "outputs": [
    {
     "data": {
      "text/html": [
       "<div>\n",
       "<style scoped>\n",
       "    .dataframe tbody tr th:only-of-type {\n",
       "        vertical-align: middle;\n",
       "    }\n",
       "\n",
       "    .dataframe tbody tr th {\n",
       "        vertical-align: top;\n",
       "    }\n",
       "\n",
       "    .dataframe thead th {\n",
       "        text-align: right;\n",
       "    }\n",
       "</style>\n",
       "<table border=\"1\" class=\"dataframe\">\n",
       "  <thead>\n",
       "    <tr style=\"text-align: right;\">\n",
       "      <th></th>\n",
       "      <th>summonerName</th>\n",
       "      <th>lane</th>\n",
       "      <th>champion</th>\n",
       "      <th>kills</th>\n",
       "      <th>assists</th>\n",
       "      <th>deaths</th>\n",
       "      <th>kda</th>\n",
       "      <th>total damages</th>\n",
       "      <th>win</th>\n",
       "    </tr>\n",
       "  </thead>\n",
       "  <tbody>\n",
       "    <tr>\n",
       "      <th>0</th>\n",
       "      <td>Atomare</td>\n",
       "      <td>TOP</td>\n",
       "      <td>Malphite</td>\n",
       "      <td>2</td>\n",
       "      <td>6</td>\n",
       "      <td>2</td>\n",
       "      <td>4.00</td>\n",
       "      <td>15220</td>\n",
       "      <td>True</td>\n",
       "    </tr>\n",
       "    <tr>\n",
       "      <th>1</th>\n",
       "      <td>Jaegha</td>\n",
       "      <td>JUNGLE</td>\n",
       "      <td>Amumu</td>\n",
       "      <td>3</td>\n",
       "      <td>7</td>\n",
       "      <td>3</td>\n",
       "      <td>3.33</td>\n",
       "      <td>11208</td>\n",
       "      <td>True</td>\n",
       "    </tr>\n",
       "    <tr>\n",
       "      <th>2</th>\n",
       "      <td>MamaYumYum</td>\n",
       "      <td>MIDDLE</td>\n",
       "      <td>Zed</td>\n",
       "      <td>7</td>\n",
       "      <td>5</td>\n",
       "      <td>4</td>\n",
       "      <td>3.00</td>\n",
       "      <td>13462</td>\n",
       "      <td>True</td>\n",
       "    </tr>\n",
       "    <tr>\n",
       "      <th>3</th>\n",
       "      <td>BMO0333</td>\n",
       "      <td>BOTTOM</td>\n",
       "      <td>Twitch</td>\n",
       "      <td>21</td>\n",
       "      <td>6</td>\n",
       "      <td>3</td>\n",
       "      <td>9.00</td>\n",
       "      <td>33212</td>\n",
       "      <td>True</td>\n",
       "    </tr>\n",
       "    <tr>\n",
       "      <th>4</th>\n",
       "      <td>ShadowPlays66</td>\n",
       "      <td>UTILITY</td>\n",
       "      <td>Seraphine</td>\n",
       "      <td>4</td>\n",
       "      <td>21</td>\n",
       "      <td>4</td>\n",
       "      <td>6.25</td>\n",
       "      <td>16002</td>\n",
       "      <td>True</td>\n",
       "    </tr>\n",
       "    <tr>\n",
       "      <th>5</th>\n",
       "      <td>Gyref</td>\n",
       "      <td>TOP</td>\n",
       "      <td>Chogath</td>\n",
       "      <td>3</td>\n",
       "      <td>2</td>\n",
       "      <td>4</td>\n",
       "      <td>1.25</td>\n",
       "      <td>13835</td>\n",
       "      <td>False</td>\n",
       "    </tr>\n",
       "    <tr>\n",
       "      <th>6</th>\n",
       "      <td>Corndawgfan</td>\n",
       "      <td>JUNGLE</td>\n",
       "      <td>MonkeyKing</td>\n",
       "      <td>1</td>\n",
       "      <td>5</td>\n",
       "      <td>8</td>\n",
       "      <td>0.75</td>\n",
       "      <td>9932</td>\n",
       "      <td>False</td>\n",
       "    </tr>\n",
       "    <tr>\n",
       "      <th>7</th>\n",
       "      <td>Μars</td>\n",
       "      <td>MIDDLE</td>\n",
       "      <td>Annie</td>\n",
       "      <td>6</td>\n",
       "      <td>5</td>\n",
       "      <td>6</td>\n",
       "      <td>1.83</td>\n",
       "      <td>15296</td>\n",
       "      <td>False</td>\n",
       "    </tr>\n",
       "    <tr>\n",
       "      <th>8</th>\n",
       "      <td>reeBro</td>\n",
       "      <td>BOTTOM</td>\n",
       "      <td>Zeri</td>\n",
       "      <td>2</td>\n",
       "      <td>3</td>\n",
       "      <td>7</td>\n",
       "      <td>0.71</td>\n",
       "      <td>4837</td>\n",
       "      <td>False</td>\n",
       "    </tr>\n",
       "    <tr>\n",
       "      <th>9</th>\n",
       "      <td>srikig</td>\n",
       "      <td>UTILITY</td>\n",
       "      <td>Senna</td>\n",
       "      <td>4</td>\n",
       "      <td>8</td>\n",
       "      <td>12</td>\n",
       "      <td>1.00</td>\n",
       "      <td>7311</td>\n",
       "      <td>False</td>\n",
       "    </tr>\n",
       "  </tbody>\n",
       "</table>\n",
       "</div>"
      ],
      "text/plain": [
       "    summonerName     lane    champion  kills  assists  deaths   kda  \\\n",
       "0        Atomare      TOP    Malphite      2        6       2  4.00   \n",
       "1         Jaegha   JUNGLE       Amumu      3        7       3  3.33   \n",
       "2     MamaYumYum   MIDDLE         Zed      7        5       4  3.00   \n",
       "3        BMO0333   BOTTOM      Twitch     21        6       3  9.00   \n",
       "4  ShadowPlays66  UTILITY   Seraphine      4       21       4  6.25   \n",
       "5          Gyref      TOP     Chogath      3        2       4  1.25   \n",
       "6    Corndawgfan   JUNGLE  MonkeyKing      1        5       8  0.75   \n",
       "7           Μars   MIDDLE       Annie      6        5       6  1.83   \n",
       "8         reeBro   BOTTOM        Zeri      2        3       7  0.71   \n",
       "9         srikig  UTILITY       Senna      4        8      12  1.00   \n",
       "\n",
       "   total damages    win  \n",
       "0          15220   True  \n",
       "1          11208   True  \n",
       "2          13462   True  \n",
       "3          33212   True  \n",
       "4          16002   True  \n",
       "5          13835  False  \n",
       "6           9932  False  \n",
       "7          15296  False  \n",
       "8           4837  False  \n",
       "9           7311  False  "
      ]
     },
     "execution_count": 23,
     "metadata": {},
     "output_type": "execute_result"
    }
   ],
   "source": [
    "df"
   ]
  },
  {
   "cell_type": "markdown",
   "id": "f622c83b",
   "metadata": {},
   "source": [
    "### Champions details"
   ]
  },
  {
   "cell_type": "code",
   "execution_count": 24,
   "id": "23373b67",
   "metadata": {},
   "outputs": [],
   "source": [
    "#Building a list with the last played champs\n",
    "last_champ_played=[]\n",
    "for match in my_matches:\n",
    "    match_played=watcher.match.by_id(my_region,match)\n",
    "    for participants in match_played['info']['participants']:\n",
    "        if participants['summonerName']==\"MamaYumYum\":\n",
    "            last_champ_played.append(participants['championName'])\n",
    "            break\n",
    "        "
   ]
  },
  {
   "cell_type": "code",
   "execution_count": 25,
   "id": "6fd4fed3",
   "metadata": {},
   "outputs": [
    {
     "data": {
      "text/plain": [
       "['Vi',\n",
       " 'AurelionSol',\n",
       " 'Zed',\n",
       " 'Yone',\n",
       " 'Chogath',\n",
       " 'Zed',\n",
       " 'Gragas',\n",
       " 'Neeko',\n",
       " 'Sylas',\n",
       " 'Yasuo',\n",
       " 'Jayce',\n",
       " 'Shyvana',\n",
       " 'Fiora',\n",
       " 'Taric',\n",
       " 'Gragas',\n",
       " 'Twitch',\n",
       " 'Irelia',\n",
       " 'Gragas',\n",
       " 'Gragas',\n",
       " 'Zed']"
      ]
     },
     "execution_count": 25,
     "metadata": {},
     "output_type": "execute_result"
    }
   ],
   "source": [
    "last_champ_played"
   ]
  },
  {
   "cell_type": "markdown",
   "id": "a5407b69",
   "metadata": {},
   "source": [
    "### Filtering the games\n",
    "We only want ranked or ranked flex games. We get rid of the other games with the attribute 'queueId'.  \n",
    "400 : Normal game  \n",
    "420 : Ranked game  \n",
    "440 : Ranked flex  \n",
    "400 : ARAM\n"
   ]
  },
  {
   "cell_type": "code",
   "execution_count": 26,
   "id": "36b46b77",
   "metadata": {},
   "outputs": [
    {
     "data": {
      "text/plain": [
       "['EUW1_6345492861',\n",
       " 'EUW1_6344920335',\n",
       " 'EUW1_6344828393',\n",
       " 'EUW1_6344780310',\n",
       " 'EUW1_6340799573',\n",
       " 'EUW1_6340749762',\n",
       " 'EUW1_6335975261',\n",
       " 'EUW1_6335029842',\n",
       " 'EUW1_6334965764',\n",
       " 'EUW1_6333590234',\n",
       " 'EUW1_6333492894',\n",
       " 'EUW1_6328709921',\n",
       " 'EUW1_6328662160',\n",
       " 'EUW1_6328212297',\n",
       " 'EUW1_6323942872',\n",
       " 'EUW1_6322470530',\n",
       " 'EUW1_6322308414',\n",
       " 'EUW1_6320051820',\n",
       " 'EUW1_6319972374',\n",
       " 'EUW1_6318697809']"
      ]
     },
     "execution_count": 26,
     "metadata": {},
     "output_type": "execute_result"
    }
   ],
   "source": [
    "my_matches"
   ]
  },
  {
   "cell_type": "code",
   "execution_count": 29,
   "id": "acfdcd2f",
   "metadata": {},
   "outputs": [],
   "source": [
    "ranked_list=[]\n",
    "for games in my_matches:\n",
    "    match_played=watcher.match.by_id(my_region,games)\n",
    "    if match_played['info']['queueId']== 420 or match_played['info']['queueId']== 440  :\n",
    "        ranked_list.append(match_played['metadata']['matchId'])\n",
    "        \n",
    "            \n",
    "    "
   ]
  },
  {
   "cell_type": "code",
   "execution_count": 30,
   "id": "ba57cdbf",
   "metadata": {},
   "outputs": [
    {
     "data": {
      "text/plain": [
       "['EUW1_6344828393',\n",
       " 'EUW1_6344780310',\n",
       " 'EUW1_6333492894',\n",
       " 'EUW1_6320051820',\n",
       " 'EUW1_6319972374',\n",
       " 'EUW1_6318697809']"
      ]
     },
     "execution_count": 30,
     "metadata": {},
     "output_type": "execute_result"
    }
   ],
   "source": [
    "ranked_list"
   ]
  },
  {
   "cell_type": "code",
   "execution_count": 33,
   "id": "4dbcbf41",
   "metadata": {},
   "outputs": [],
   "source": [
    "champ_ranked=[]\n",
    "for match in ranked_list:\n",
    "    match_played=watcher.match.by_id(my_region,match)\n",
    "    for participants in match_played['info']['participants']:\n",
    "        if participants['summonerName']==\"MamaYumYum\":\n",
    "            champ_ranked.append(participants['championName'])\n",
    "            break"
   ]
  },
  {
   "cell_type": "code",
   "execution_count": 34,
   "id": "fb91127e",
   "metadata": {},
   "outputs": [
    {
     "data": {
      "text/plain": [
       "['Zed', 'Yone', 'Jayce', 'Gragas', 'Gragas', 'Zed']"
      ]
     },
     "execution_count": 34,
     "metadata": {},
     "output_type": "execute_result"
    }
   ],
   "source": [
    "champ_ranked"
   ]
  }
 ],
 "metadata": {
  "kernelspec": {
   "display_name": "Python 3 (ipykernel)",
   "language": "python",
   "name": "python3"
  },
  "language_info": {
   "codemirror_mode": {
    "name": "ipython",
    "version": 3
   },
   "file_extension": ".py",
   "mimetype": "text/x-python",
   "name": "python",
   "nbconvert_exporter": "python",
   "pygments_lexer": "ipython3",
   "version": "3.9.13"
  }
 },
 "nbformat": 4,
 "nbformat_minor": 5
}
